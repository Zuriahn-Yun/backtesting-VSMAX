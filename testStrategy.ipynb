{
 "cells": [
  {
   "cell_type": "markdown",
   "id": "6910f32d",
   "metadata": {},
   "source": [
    "# Import Data and Clean"
   ]
  },
  {
   "cell_type": "code",
   "execution_count": 1,
   "id": "6595e040",
   "metadata": {},
   "outputs": [
    {
     "name": "stderr",
     "output_type": "stream",
     "text": [
      "c:\\Users\\zuria\\Projects\\backtesting-VSMAX\\.venv\\Lib\\site-packages\\backtesting\\_plotting.py:55: UserWarning: Jupyter Notebook detected. Setting Bokeh output to notebook. This may not work in Jupyter clients without JavaScript support, such as old IDEs. Reset with `backtesting.set_bokeh_output(notebook=False)`.\n",
      "  warnings.warn('Jupyter Notebook detected. '\n"
     ]
    },
    {
     "data": {
      "text/html": [
       "    <style>\n",
       "        .bk-notebook-logo {\n",
       "            display: block;\n",
       "            width: 20px;\n",
       "            height: 20px;\n",
       "            background-image: url(data:image/png;base64,iVBORw0KGgoAAAANSUhEUgAAABQAAAAUCAYAAACNiR0NAAAABHNCSVQICAgIfAhkiAAAAAlwSFlzAAALEgAACxIB0t1+/AAAABx0RVh0U29mdHdhcmUAQWRvYmUgRmlyZXdvcmtzIENTNui8sowAAAOkSURBVDiNjZRtaJVlGMd/1/08zzln5zjP1LWcU9N0NkN8m2CYjpgQYQXqSs0I84OLIC0hkEKoPtiH3gmKoiJDU7QpLgoLjLIQCpEsNJ1vqUOdO7ppbuec5+V+rj4ctwzd8IIbbi6u+8f1539dt3A78eXC7QizUF7gyV1fD1Yqg4JWz84yffhm0qkFqBogB9rM8tZdtwVsPUhWhGcFJngGeWrPzHm5oaMmkfEg1usvLFyc8jLRqDOMru7AyC8saQr7GG7f5fvDeH7Ej8CM66nIF+8yngt6HWaKh7k49Soy9nXurCi1o3qUbS3zWfrYeQDTB/Qj6kX6Ybhw4B+bOYoLKCC9H3Nu/leUTZ1JdRWkkn2ldcCamzrcf47KKXdAJllSlxAOkRgyHsGC/zRday5Qld9DyoM4/q/rUoy/CXh3jzOu3bHUVZeU+DEn8FInkPBFlu3+nW3Nw0mk6vCDiWg8CeJaxEwuHS3+z5RgY+YBR6V1Z1nxSOfoaPa4LASWxxdNp+VWTk7+4vzaou8v8PN+xo+KY2xsw6une2frhw05CTYOmQvsEhjhWjn0bmXPjpE1+kplmmkP3suftwTubK9Vq22qKmrBhpY4jvd5afdRA3wGjFAgcnTK2s4hY0/GPNIb0nErGMCRxWOOX64Z8RAC4oCXdklmEvcL8o0BfkNK4lUg9HTl+oPlQxdNo3Mg4Nv175e/1LDGzZen30MEjRUtmXSfiTVu1kK8W4txyV6BMKlbgk3lMwYCiusNy9fVfvvwMxv8Ynl6vxoByANLTWplvuj/nF9m2+PDtt1eiHPBr1oIfhCChQMBw6Aw0UulqTKZdfVvfG7VcfIqLG9bcldL/+pdWTLxLUy8Qq38heUIjh4XlzZxzQm19lLFlr8vdQ97rjZVOLf8nclzckbcD4wxXMidpX30sFd37Fv/GtwwhzhxGVAprjbg0gCAEeIgwCZyTV2Z1REEW8O4py0wsjeloKoMr6iCY6dP92H6Vw/oTyICIthibxjm/DfN9lVz8IqtqKYLUXfoKVMVQVVJOElGjrnnUt9T9wbgp8AyYKaGlqingHZU/uG2NTZSVqwHQTWkx9hxjkpWDaCg6Ckj5qebgBVbT3V3NNXMSiWSDdGV3hrtzla7J+duwPOToIg42ChPQOQjspnSlp1V+Gjdged7+8UN5CRAV7a5EdFNwCjEaBR27b3W890TE7g24NAP/mMDXRWrGoFPQI9ls/MWO2dWFAar/xcOIImbbpA3zgAAAABJRU5ErkJggg==);\n",
       "        }\n",
       "    </style>\n",
       "    <div>\n",
       "        <a href=\"https://bokeh.org\" target=\"_blank\" class=\"bk-notebook-logo\"></a>\n",
       "        <span id=\"d460f33b-1d2b-40b0-971d-9e5c21c717c2\">Loading BokehJS ...</span>\n",
       "    </div>\n"
      ]
     },
     "metadata": {},
     "output_type": "display_data"
    },
    {
     "data": {
      "application/javascript": "'use strict';\n(function(root) {\n  function now() {\n    return new Date();\n  }\n\n  const force = true;\n\n  if (typeof root._bokeh_onload_callbacks === \"undefined\" || force === true) {\n    root._bokeh_onload_callbacks = [];\n    root._bokeh_is_loading = undefined;\n  }\n\nconst JS_MIME_TYPE = 'application/javascript';\n  const HTML_MIME_TYPE = 'text/html';\n  const EXEC_MIME_TYPE = 'application/vnd.bokehjs_exec.v0+json';\n  const CLASS_NAME = 'output_bokeh rendered_html';\n\n  /**\n   * Render data to the DOM node\n   */\n  function render(props, node) {\n    const script = document.createElement(\"script\");\n    node.appendChild(script);\n  }\n\n  /**\n   * Handle when an output is cleared or removed\n   */\n  function handleClearOutput(event, handle) {\n    function drop(id) {\n      const view = Bokeh.index.get_by_id(id)\n      if (view != null) {\n        view.model.document.clear()\n        Bokeh.index.delete(view)\n      }\n    }\n\n    const cell = handle.cell;\n\n    const id = cell.output_area._bokeh_element_id;\n    const server_id = cell.output_area._bokeh_server_id;\n\n    // Clean up Bokeh references\n    if (id != null) {\n      drop(id)\n    }\n\n    if (server_id !== undefined) {\n      // Clean up Bokeh references\n      const cmd_clean = \"from bokeh.io.state import curstate; print(curstate().uuid_to_server['\" + server_id + \"'].get_sessions()[0].document.roots[0]._id)\";\n      cell.notebook.kernel.execute(cmd_clean, {\n        iopub: {\n          output: function(msg) {\n            const id = msg.content.text.trim()\n            drop(id)\n          }\n        }\n      });\n      // Destroy server and session\n      const cmd_destroy = \"import bokeh.io.notebook as ion; ion.destroy_server('\" + server_id + \"')\";\n      cell.notebook.kernel.execute(cmd_destroy);\n    }\n  }\n\n  /**\n   * Handle when a new output is added\n   */\n  function handleAddOutput(event, handle) {\n    const output_area = handle.output_area;\n    const output = handle.output;\n\n    // limit handleAddOutput to display_data with EXEC_MIME_TYPE content only\n    if ((output.output_type != \"display_data\") || (!Object.prototype.hasOwnProperty.call(output.data, EXEC_MIME_TYPE))) {\n      return\n    }\n\n    const toinsert = output_area.element.find(\".\" + CLASS_NAME.split(' ')[0]);\n\n    if (output.metadata[EXEC_MIME_TYPE][\"id\"] !== undefined) {\n      toinsert[toinsert.length - 1].firstChild.textContent = output.data[JS_MIME_TYPE];\n      // store reference to embed id on output_area\n      output_area._bokeh_element_id = output.metadata[EXEC_MIME_TYPE][\"id\"];\n    }\n    if (output.metadata[EXEC_MIME_TYPE][\"server_id\"] !== undefined) {\n      const bk_div = document.createElement(\"div\");\n      bk_div.innerHTML = output.data[HTML_MIME_TYPE];\n      const script_attrs = bk_div.children[0].attributes;\n      for (let i = 0; i < script_attrs.length; i++) {\n        toinsert[toinsert.length - 1].firstChild.setAttribute(script_attrs[i].name, script_attrs[i].value);\n        toinsert[toinsert.length - 1].firstChild.textContent = bk_div.children[0].textContent\n      }\n      // store reference to server id on output_area\n      output_area._bokeh_server_id = output.metadata[EXEC_MIME_TYPE][\"server_id\"];\n    }\n  }\n\n  function register_renderer(events, OutputArea) {\n\n    function append_mime(data, metadata, element) {\n      // create a DOM node to render to\n      const toinsert = this.create_output_subarea(\n        metadata,\n        CLASS_NAME,\n        EXEC_MIME_TYPE\n      );\n      this.keyboard_manager.register_events(toinsert);\n      // Render to node\n      const props = {data: data, metadata: metadata[EXEC_MIME_TYPE]};\n      render(props, toinsert[toinsert.length - 1]);\n      element.append(toinsert);\n      return toinsert\n    }\n\n    /* Handle when an output is cleared or removed */\n    events.on('clear_output.CodeCell', handleClearOutput);\n    events.on('delete.Cell', handleClearOutput);\n\n    /* Handle when a new output is added */\n    events.on('output_added.OutputArea', handleAddOutput);\n\n    /**\n     * Register the mime type and append_mime function with output_area\n     */\n    OutputArea.prototype.register_mime_type(EXEC_MIME_TYPE, append_mime, {\n      /* Is output safe? */\n      safe: true,\n      /* Index of renderer in `output_area.display_order` */\n      index: 0\n    });\n  }\n\n  // register the mime type if in Jupyter Notebook environment and previously unregistered\n  if (root.Jupyter !== undefined) {\n    const events = require('base/js/events');\n    const OutputArea = require('notebook/js/outputarea').OutputArea;\n\n    if (OutputArea.prototype.mime_types().indexOf(EXEC_MIME_TYPE) == -1) {\n      register_renderer(events, OutputArea);\n    }\n  }\n  if (typeof (root._bokeh_timeout) === \"undefined\" || force === true) {\n    root._bokeh_timeout = Date.now() + 5000;\n    root._bokeh_failed_load = false;\n  }\n\n  const NB_LOAD_WARNING = {'data': {'text/html':\n     \"<div style='background-color: #fdd'>\\n\"+\n     \"<p>\\n\"+\n     \"BokehJS does not appear to have successfully loaded. If loading BokehJS from CDN, this \\n\"+\n     \"may be due to a slow or bad network connection. Possible fixes:\\n\"+\n     \"</p>\\n\"+\n     \"<ul>\\n\"+\n     \"<li>re-rerun `output_notebook()` to attempt to load from CDN again, or</li>\\n\"+\n     \"<li>use INLINE resources instead, as so:</li>\\n\"+\n     \"</ul>\\n\"+\n     \"<code>\\n\"+\n     \"from bokeh.resources import INLINE\\n\"+\n     \"output_notebook(resources=INLINE)\\n\"+\n     \"</code>\\n\"+\n     \"</div>\"}};\n\n  function display_loaded(error = null) {\n    const el = document.getElementById(\"d460f33b-1d2b-40b0-971d-9e5c21c717c2\");\n    if (el != null) {\n      const html = (() => {\n        if (typeof root.Bokeh === \"undefined\") {\n          if (error == null) {\n            return \"BokehJS is loading ...\";\n          } else {\n            return \"BokehJS failed to load.\";\n          }\n        } else {\n          const prefix = `BokehJS ${root.Bokeh.version}`;\n          if (error == null) {\n            return `${prefix} successfully loaded.`;\n          } else {\n            return `${prefix} <b>encountered errors</b> while loading and may not function as expected.`;\n          }\n        }\n      })();\n      el.innerHTML = html;\n\n      if (error != null) {\n        const wrapper = document.createElement(\"div\");\n        wrapper.style.overflow = \"auto\";\n        wrapper.style.height = \"5em\";\n        wrapper.style.resize = \"vertical\";\n        const content = document.createElement(\"div\");\n        content.style.fontFamily = \"monospace\";\n        content.style.whiteSpace = \"pre-wrap\";\n        content.style.backgroundColor = \"rgb(255, 221, 221)\";\n        content.textContent = error.stack ?? error.toString();\n        wrapper.append(content);\n        el.append(wrapper);\n      }\n    } else if (Date.now() < root._bokeh_timeout) {\n      setTimeout(() => display_loaded(error), 100);\n    }\n  }\n\n  function run_callbacks() {\n    try {\n      root._bokeh_onload_callbacks.forEach(function(callback) {\n        if (callback != null)\n          callback();\n      });\n    } finally {\n      delete root._bokeh_onload_callbacks\n    }\n    console.debug(\"Bokeh: all callbacks have finished\");\n  }\n\n  function load_libs(css_urls, js_urls, callback) {\n    if (css_urls == null) css_urls = [];\n    if (js_urls == null) js_urls = [];\n\n    root._bokeh_onload_callbacks.push(callback);\n    if (root._bokeh_is_loading > 0) {\n      console.debug(\"Bokeh: BokehJS is being loaded, scheduling callback at\", now());\n      return null;\n    }\n    if (js_urls == null || js_urls.length === 0) {\n      run_callbacks();\n      return null;\n    }\n    console.debug(\"Bokeh: BokehJS not loaded, scheduling load and callback at\", now());\n    root._bokeh_is_loading = css_urls.length + js_urls.length;\n\n    function on_load() {\n      root._bokeh_is_loading--;\n      if (root._bokeh_is_loading === 0) {\n        console.debug(\"Bokeh: all BokehJS libraries/stylesheets loaded\");\n        run_callbacks()\n      }\n    }\n\n    function on_error(url) {\n      console.error(\"failed to load \" + url);\n    }\n\n    for (let i = 0; i < css_urls.length; i++) {\n      const url = css_urls[i];\n      const element = document.createElement(\"link\");\n      element.onload = on_load;\n      element.onerror = on_error.bind(null, url);\n      element.rel = \"stylesheet\";\n      element.type = \"text/css\";\n      element.href = url;\n      console.debug(\"Bokeh: injecting link tag for BokehJS stylesheet: \", url);\n      document.body.appendChild(element);\n    }\n\n    for (let i = 0; i < js_urls.length; i++) {\n      const url = js_urls[i];\n      const element = document.createElement('script');\n      element.onload = on_load;\n      element.onerror = on_error.bind(null, url);\n      element.async = false;\n      element.src = url;\n      console.debug(\"Bokeh: injecting script tag for BokehJS library: \", url);\n      document.head.appendChild(element);\n    }\n  };\n\n  function inject_raw_css(css) {\n    const element = document.createElement(\"style\");\n    element.appendChild(document.createTextNode(css));\n    document.body.appendChild(element);\n  }\n\n  const js_urls = [\"https://cdn.bokeh.org/bokeh/release/bokeh-3.8.0.min.js\", \"https://cdn.bokeh.org/bokeh/release/bokeh-gl-3.8.0.min.js\", \"https://cdn.bokeh.org/bokeh/release/bokeh-widgets-3.8.0.min.js\", \"https://cdn.bokeh.org/bokeh/release/bokeh-tables-3.8.0.min.js\", \"https://cdn.bokeh.org/bokeh/release/bokeh-mathjax-3.8.0.min.js\"];\n  const css_urls = [];\n\n  const inline_js = [    function(Bokeh) {\n      Bokeh.set_log_level(\"info\");\n    },\nfunction(Bokeh) {\n    }\n  ];\n\n  function run_inline_js() {\n    if (root.Bokeh !== undefined || force === true) {\n      try {\n            for (let i = 0; i < inline_js.length; i++) {\n      inline_js[i].call(root, root.Bokeh);\n    }\n\n      } catch (error) {display_loaded(error);throw error;\n      }if (force === true) {\n        display_loaded();\n      }} else if (Date.now() < root._bokeh_timeout) {\n      setTimeout(run_inline_js, 100);\n    } else if (!root._bokeh_failed_load) {\n      console.log(\"Bokeh: BokehJS failed to load within specified timeout.\");\n      root._bokeh_failed_load = true;\n    } else if (force !== true) {\n      const cell = $(document.getElementById(\"d460f33b-1d2b-40b0-971d-9e5c21c717c2\")).parents('.cell').data().cell;\n      cell.output_area.append_execute_result(NB_LOAD_WARNING)\n    }\n  }\n\n  if (root._bokeh_is_loading === 0) {\n    console.debug(\"Bokeh: BokehJS loaded, going straight to plotting\");\n    run_inline_js();\n  } else {\n    load_libs(css_urls, js_urls, function() {\n      console.debug(\"Bokeh: BokehJS plotting callback run at\", now());\n      run_inline_js();\n    });\n  }\n}(window));",
      "application/vnd.bokehjs_load.v0+json": ""
     },
     "metadata": {},
     "output_type": "display_data"
    },
    {
     "name": "stdout",
     "output_type": "stream",
     "text": [
      "              Open    High     Low   Close\n",
      "Date                                      \n",
      "2025-09-05  122.47  122.47  122.47  122.47\n",
      "2025-09-04  121.61  121.61  121.61  121.61\n",
      "2025-09-03  120.15  120.15  120.15  120.15\n",
      "2025-09-02  120.33  120.33  120.33  120.33\n",
      "2025-08-29  121.03  121.03  121.03  121.03\n"
     ]
    }
   ],
   "source": [
    "import pandas as pd \n",
    "from backtesting import Strategy\n",
    "from backtesting.lib import crossover\n",
    "\n",
    "# Covert Date to Date and times\n",
    "df = pd.read_csv(\"FUND_US_XNAS_VSMAX_9_8_2024_9_8_2025.csv\", parse_dates=['Date'], index_col='Date')\n",
    "\n",
    "# Remove possible timezone data\n",
    "df.index = df.index.tz_localize(None)\n",
    "\n",
    "print(df.head())"
   ]
  },
  {
   "cell_type": "markdown",
   "id": "6c8d095a",
   "metadata": {},
   "source": [
    "# Simple Moving Average"
   ]
  },
  {
   "cell_type": "code",
   "execution_count": 2,
   "id": "0874e733",
   "metadata": {},
   "outputs": [],
   "source": [
    "def SMA(values, n):\n",
    "    \"\"\"\n",
    "    Return simple moving average of `values`, at\n",
    "    each step taking into account `n` previous values.\n",
    "    \"\"\"\n",
    "    return pd.Series(values).rolling(n).mean()"
   ]
  },
  {
   "cell_type": "code",
   "execution_count": 3,
   "id": "2e717461",
   "metadata": {},
   "outputs": [],
   "source": [
    "from backtesting import Strategy\n",
    "from backtesting.lib import crossover\n",
    "\n",
    "class SmaCross(Strategy):\n",
    "    # Define the two MA lags as *class variables*\n",
    "    # for later optimization\n",
    "    n1 = 10\n",
    "    n2 = 20\n",
    "    \n",
    "    def init(self):\n",
    "        # Precompute the two moving averages\n",
    "        self.sma1 = self.I(SMA, self.data.Close, self.n1)\n",
    "        self.sma2 = self.I(SMA, self.data.Close, self.n2)\n",
    "    \n",
    "    def next(self):\n",
    "        # If sma1 crosses above sma2, close any existing\n",
    "        # short trades, and buy the asset\n",
    "        if crossover(self.sma1, self.sma2):\n",
    "            self.position.close()\n",
    "            self.buy()\n",
    "\n",
    "        # Else, if sma1 crosses below sma2, close any existing\n",
    "        # long trades, and sell the asset\n",
    "        elif crossover(self.sma2, self.sma1):\n",
    "            self.position.close()\n",
    "            self.sell()"
   ]
  },
  {
   "cell_type": "code",
   "execution_count": 12,
   "id": "19773c18",
   "metadata": {},
   "outputs": [],
   "source": [
    "import pandas as pd\n",
    "from backtesting.lib import SignalStrategy, TrailingStrategy\n",
    "\n",
    "\n",
    "class SmaCross(SignalStrategy,\n",
    "               TrailingStrategy):\n",
    "    n1 = 50\n",
    "    n2 = 200\n",
    "    \n",
    "    def init(self):\n",
    "        # In init() and in next() it is important to call the\n",
    "        # super method to properly initialize the parent classes\n",
    "        super().init()\n",
    "        \n",
    "        # Precompute the two moving averages\n",
    "        sma1 = self.I(SMA, self.data.Close, self.n1)\n",
    "        sma2 = self.I(SMA, self.data.Close, self.n2)\n",
    "        \n",
    "        # Where sma1 crosses sma2 upwards. Diff gives us [-1,0, *1*]\n",
    "        signal = (pd.Series(sma1) > sma2).astype(int).diff().fillna(0)\n",
    "        signal = signal.replace(-1, 0)  # Upwards/long only\n",
    "        \n",
    "        # Use 95% of available liquidity (at the time) on each order.\n",
    "        # (Leaving a value of 1. would instead buy a single share.)\n",
    "        entry_size = signal * .95\n",
    "                \n",
    "        # Set order entry sizes using the method provided by \n",
    "        # `SignalStrategy`. See the docs.\n",
    "        self.set_signal(entry_size=entry_size)\n",
    "        \n",
    "        # Set trailing stop-loss to 2x ATR using\n",
    "        # the method provided by `TrailingStrategy`\n",
    "        self.set_trailing_sl(2)"
   ]
  },
  {
   "cell_type": "code",
   "execution_count": 5,
   "id": "1f7c7baf",
   "metadata": {},
   "outputs": [
    {
     "name": "stderr",
     "output_type": "stream",
     "text": [
      "C:\\Users\\zuria\\AppData\\Local\\Temp\\ipykernel_5644\\2312726828.py:4: UserWarning: Data index is not sorted in ascending order. Sorting.\n",
      "  bt = Backtest(df, SmaCross, commission=.002)\n",
      "C:\\Users\\zuria\\AppData\\Local\\Temp\\ipykernel_5644\\2312726828.py:6: UserWarning: Some trades remain open at the end of backtest. Use `Backtest(..., finalize_trades=True)` to close them and include them in stats.\n",
      "  stats = bt.run()\n"
     ]
    }
   ],
   "source": [
    "from backtesting import Backtest\n",
    "from backtesting.test import GOOG\n",
    "\n",
    "bt = Backtest(df, SmaCross, commission=.002)\n",
    "\n",
    "stats = bt.run()\n",
    "\n",
    "\n",
    "# Things we care about -> Sharpe Ratio , Return [%] , Buy & Hold Return [%] , Max. Drawdown [%]\n",
    "# Avg. Drawdown [%]                     \n",
    "# Max. Drawdown Duration      \n",
    "# Avg. Drawdown Duration       \n",
    "\n",
    "# Most important stats, currenty this strategy sucks\n",
    "def retrieve(stats,trades):\n",
    "    print(\"STRATEGY                -> \",stats[\"_strategy\"])\n",
    "    print(\"Sharpe ratio            -> \", stats[\"Sharpe Ratio\"])\n",
    "    print(\"Return %                -> \", stats[\"Return [%]\"])\n",
    "    print(\"Buy and Hold Return     -> \", stats[\"Buy & Hold Return [%]\"])\n",
    "    print(\"Max. Drawdown [%]       -> \", stats[\"Max. Drawdown [%]\"])\n",
    "    print(\"Avg. Drawdown [%]       -> \", stats[\"Avg. Drawdown [%]\"])\n",
    "    print(\"Max. Drawdown Duration  -> \", stats[\"Max. Drawdown Duration\"])\n",
    "    print(\"Avg. Drawdown Duration  -> \", stats[\"Avg. Drawdown Duration\"])\n",
    "    if trades == True:\n",
    "        print(\"Trades\")\n",
    "        print(stats[\"_trades\"])"
   ]
  },
  {
   "cell_type": "code",
   "execution_count": 9,
   "id": "9531cd25",
   "metadata": {},
   "outputs": [],
   "source": [
    "optimized_results = []"
   ]
  },
  {
   "cell_type": "code",
   "execution_count": 10,
   "id": "c3b5949e",
   "metadata": {},
   "outputs": [
    {
     "name": "stderr",
     "output_type": "stream",
     "text": [
      "c:\\Users\\zuria\\Projects\\backtesting-VSMAX\\.venv\\Lib\\site-packages\\backtesting\\backtesting.py:1624: UserWarning: Searching for best of 309 configurations.\n",
      "  output = _optimize_grid()\n",
      "c:\\Users\\zuria\\Projects\\backtesting-VSMAX\\.venv\\Lib\\site-packages\\backtesting\\backtesting.py:1624: RuntimeWarning: If you want to use multi-process optimization with `multiprocessing.get_start_method() == 'spawn'` (e.g. on Windows),set `backtesting.Pool = multiprocessing.Pool` (or of the desired context) and hide `bt.optimize()` call behind a `if __name__ == '__main__'` guard. Currently using thread-based paralellism, which might be slightly slower for non-numpy / non-GIL-releasing code. See https://github.com/kernc/backtesting.py/issues/1256\n",
      "  output = _optimize_grid()\n",
      "c:\\Users\\zuria\\Projects\\backtesting-VSMAX\\.venv\\Lib\\site-packages\\backtesting\\backtesting.py:1637: UserWarning: Some trades remain open at the end of backtest. Use `Backtest(..., finalize_trades=True)` to close them and include them in stats.\n",
      "  for stats in (bt.run(**params)\n",
      "c:\\Users\\zuria\\Projects\\backtesting-VSMAX\\.venv\\Lib\\site-packages\\backtesting\\backtesting.py:1637: UserWarning: Some trades remain open at the end of backtest. Use `Backtest(..., finalize_trades=True)` to close them and include them in stats.\n",
      "  for stats in (bt.run(**params)\n",
      "c:\\Users\\zuria\\Projects\\backtesting-VSMAX\\.venv\\Lib\\site-packages\\backtesting\\backtesting.py:1637: UserWarning: Some trades remain open at the end of backtest. Use `Backtest(..., finalize_trades=True)` to close them and include them in stats.\n",
      "  for stats in (bt.run(**params)\n",
      "c:\\Users\\zuria\\Projects\\backtesting-VSMAX\\.venv\\Lib\\site-packages\\backtesting\\backtesting.py:1637: UserWarning: Some trades remain open at the end of backtest. Use `Backtest(..., finalize_trades=True)` to close them and include them in stats.\n",
      "  for stats in (bt.run(**params)\n",
      "c:\\Users\\zuria\\Projects\\backtesting-VSMAX\\.venv\\Lib\\site-packages\\backtesting\\backtesting.py:1637: UserWarning: Some trades remain open at the end of backtest. Use `Backtest(..., finalize_trades=True)` to close them and include them in stats.\n",
      "  for stats in (bt.run(**params)\n",
      "c:\\Users\\zuria\\Projects\\backtesting-VSMAX\\.venv\\Lib\\site-packages\\backtesting\\backtesting.py:1637: UserWarning: Some trades remain open at the end of backtest. Use `Backtest(..., finalize_trades=True)` to close them and include them in stats.\n",
      "  for stats in (bt.run(**params)\n",
      "c:\\Users\\zuria\\Projects\\backtesting-VSMAX\\.venv\\Lib\\site-packages\\backtesting\\backtesting.py:1637: UserWarning: Some trades remain open at the end of backtest. Use `Backtest(..., finalize_trades=True)` to close them and include them in stats.\n",
      "  for stats in (bt.run(**params)\n",
      "c:\\Users\\zuria\\Projects\\backtesting-VSMAX\\.venv\\Lib\\site-packages\\backtesting\\backtesting.py:1637: UserWarning: Some trades remain open at the end of backtest. Use `Backtest(..., finalize_trades=True)` to close them and include them in stats.\n",
      "  for stats in (bt.run(**params)\n",
      "c:\\Users\\zuria\\Projects\\backtesting-VSMAX\\.venv\\Lib\\site-packages\\backtesting\\backtesting.py:966: UserWarning: time=204: Broker canceled the relative-sized order due to insufficient margin.\n",
      "  warnings.warn(\n",
      "c:\\Users\\zuria\\Projects\\backtesting-VSMAX\\.venv\\Lib\\site-packages\\backtesting\\backtesting.py:1637: UserWarning: Some trades remain open at the end of backtest. Use `Backtest(..., finalize_trades=True)` to close them and include them in stats.\n",
      "  for stats in (bt.run(**params)\n",
      "c:\\Users\\zuria\\Projects\\backtesting-VSMAX\\.venv\\Lib\\site-packages\\backtesting\\backtesting.py:1637: UserWarning: Some trades remain open at the end of backtest. Use `Backtest(..., finalize_trades=True)` to close them and include them in stats.\n",
      "  for stats in (bt.run(**params)\n",
      "c:\\Users\\zuria\\Projects\\backtesting-VSMAX\\.venv\\Lib\\site-packages\\backtesting\\backtesting.py:1637: UserWarning: Some trades remain open at the end of backtest. Use `Backtest(..., finalize_trades=True)` to close them and include them in stats.\n",
      "  for stats in (bt.run(**params)\n",
      "c:\\Users\\zuria\\Projects\\backtesting-VSMAX\\.venv\\Lib\\site-packages\\backtesting\\backtesting.py:1637: UserWarning: Some trades remain open at the end of backtest. Use `Backtest(..., finalize_trades=True)` to close them and include them in stats.\n",
      "  for stats in (bt.run(**params)\n",
      "c:\\Users\\zuria\\Projects\\backtesting-VSMAX\\.venv\\Lib\\site-packages\\backtesting\\backtesting.py:1637: UserWarning: Some trades remain open at the end of backtest. Use `Backtest(..., finalize_trades=True)` to close them and include them in stats.\n",
      "  for stats in (bt.run(**params)\n",
      "c:\\Users\\zuria\\Projects\\backtesting-VSMAX\\.venv\\Lib\\site-packages\\backtesting\\backtesting.py:1637: UserWarning: Some trades remain open at the end of backtest. Use `Backtest(..., finalize_trades=True)` to close them and include them in stats.\n",
      "  for stats in (bt.run(**params)\n",
      "c:\\Users\\zuria\\Projects\\backtesting-VSMAX\\.venv\\Lib\\site-packages\\backtesting\\backtesting.py:1637: UserWarning: Some trades remain open at the end of backtest. Use `Backtest(..., finalize_trades=True)` to close them and include them in stats.\n",
      "  for stats in (bt.run(**params)\n",
      "c:\\Users\\zuria\\Projects\\backtesting-VSMAX\\.venv\\Lib\\site-packages\\backtesting\\backtesting.py:1637: UserWarning: Some trades remain open at the end of backtest. Use `Backtest(..., finalize_trades=True)` to close them and include them in stats.\n",
      "  for stats in (bt.run(**params)\n",
      "c:\\Users\\zuria\\Projects\\backtesting-VSMAX\\.venv\\Lib\\site-packages\\backtesting\\backtesting.py:966: UserWarning: time=234: Broker canceled the relative-sized order due to insufficient margin.\n",
      "  warnings.warn(\n",
      "c:\\Users\\zuria\\Projects\\backtesting-VSMAX\\.venv\\Lib\\site-packages\\backtesting\\backtesting.py:966: UserWarning: time=237: Broker canceled the relative-sized order due to insufficient margin.\n",
      "  warnings.warn(\n",
      "c:\\Users\\zuria\\Projects\\backtesting-VSMAX\\.venv\\Lib\\site-packages\\backtesting\\backtesting.py:966: UserWarning: time=245: Broker canceled the relative-sized order due to insufficient margin.\n",
      "  warnings.warn(\n",
      "c:\\Users\\zuria\\Projects\\backtesting-VSMAX\\.venv\\Lib\\site-packages\\backtesting\\backtesting.py:1637: UserWarning: Some trades remain open at the end of backtest. Use `Backtest(..., finalize_trades=True)` to close them and include them in stats.\n",
      "  for stats in (bt.run(**params)\n",
      "c:\\Users\\zuria\\Projects\\backtesting-VSMAX\\.venv\\Lib\\site-packages\\backtesting\\backtesting.py:1637: UserWarning: Some trades remain open at the end of backtest. Use `Backtest(..., finalize_trades=True)` to close them and include them in stats.\n",
      "  for stats in (bt.run(**params)\n",
      "c:\\Users\\zuria\\Projects\\backtesting-VSMAX\\.venv\\Lib\\site-packages\\backtesting\\backtesting.py:1637: UserWarning: Some trades remain open at the end of backtest. Use `Backtest(..., finalize_trades=True)` to close them and include them in stats.\n",
      "  for stats in (bt.run(**params)\n",
      "c:\\Users\\zuria\\Projects\\backtesting-VSMAX\\.venv\\Lib\\site-packages\\backtesting\\backtesting.py:1637: UserWarning: Some trades remain open at the end of backtest. Use `Backtest(..., finalize_trades=True)` to close them and include them in stats.\n",
      "  for stats in (bt.run(**params)\n",
      "c:\\Users\\zuria\\Projects\\backtesting-VSMAX\\.venv\\Lib\\site-packages\\backtesting\\backtesting.py:1637: UserWarning: Some trades remain open at the end of backtest. Use `Backtest(..., finalize_trades=True)` to close them and include them in stats.\n",
      "  for stats in (bt.run(**params)\n",
      "c:\\Users\\zuria\\Projects\\backtesting-VSMAX\\.venv\\Lib\\site-packages\\backtesting\\backtesting.py:1637: UserWarning: Some trades remain open at the end of backtest. Use `Backtest(..., finalize_trades=True)` to close them and include them in stats.\n",
      "  for stats in (bt.run(**params)\n",
      "c:\\Users\\zuria\\Projects\\backtesting-VSMAX\\.venv\\Lib\\site-packages\\backtesting\\backtesting.py:1637: UserWarning: Some trades remain open at the end of backtest. Use `Backtest(..., finalize_trades=True)` to close them and include them in stats.\n",
      "  for stats in (bt.run(**params)\n",
      "c:\\Users\\zuria\\Projects\\backtesting-VSMAX\\.venv\\Lib\\site-packages\\backtesting\\backtesting.py:1637: UserWarning: Some trades remain open at the end of backtest. Use `Backtest(..., finalize_trades=True)` to close them and include them in stats.\n",
      "  for stats in (bt.run(**params)\n",
      "c:\\Users\\zuria\\Projects\\backtesting-VSMAX\\.venv\\Lib\\site-packages\\backtesting\\backtesting.py:1637: UserWarning: Some trades remain open at the end of backtest. Use `Backtest(..., finalize_trades=True)` to close them and include them in stats.\n",
      "  for stats in (bt.run(**params)\n",
      "c:\\Users\\zuria\\Projects\\backtesting-VSMAX\\.venv\\Lib\\site-packages\\backtesting\\backtesting.py:1637: UserWarning: Some trades remain open at the end of backtest. Use `Backtest(..., finalize_trades=True)` to close them and include them in stats.\n",
      "  for stats in (bt.run(**params)\n",
      "c:\\Users\\zuria\\Projects\\backtesting-VSMAX\\.venv\\Lib\\site-packages\\backtesting\\backtesting.py:1637: UserWarning: Some trades remain open at the end of backtest. Use `Backtest(..., finalize_trades=True)` to close them and include them in stats.\n",
      "  for stats in (bt.run(**params)\n",
      "c:\\Users\\zuria\\Projects\\backtesting-VSMAX\\.venv\\Lib\\site-packages\\backtesting\\backtesting.py:1637: UserWarning: Some trades remain open at the end of backtest. Use `Backtest(..., finalize_trades=True)` to close them and include them in stats.\n",
      "  for stats in (bt.run(**params)\n",
      "c:\\Users\\zuria\\Projects\\backtesting-VSMAX\\.venv\\Lib\\site-packages\\backtesting\\backtesting.py:1637: UserWarning: Some trades remain open at the end of backtest. Use `Backtest(..., finalize_trades=True)` to close them and include them in stats.\n",
      "  for stats in (bt.run(**params)\n",
      "c:\\Users\\zuria\\Projects\\backtesting-VSMAX\\.venv\\Lib\\site-packages\\backtesting\\backtesting.py:1637: UserWarning: Some trades remain open at the end of backtest. Use `Backtest(..., finalize_trades=True)` to close them and include them in stats.\n",
      "  for stats in (bt.run(**params)\n",
      "c:\\Users\\zuria\\Projects\\backtesting-VSMAX\\.venv\\Lib\\site-packages\\backtesting\\backtesting.py:1637: UserWarning: Some trades remain open at the end of backtest. Use `Backtest(..., finalize_trades=True)` to close them and include them in stats.\n",
      "  for stats in (bt.run(**params)\n",
      "c:\\Users\\zuria\\Projects\\backtesting-VSMAX\\.venv\\Lib\\site-packages\\backtesting\\backtesting.py:1637: UserWarning: Some trades remain open at the end of backtest. Use `Backtest(..., finalize_trades=True)` to close them and include them in stats.\n",
      "  for stats in (bt.run(**params)\n",
      "c:\\Users\\zuria\\Projects\\backtesting-VSMAX\\.venv\\Lib\\site-packages\\backtesting\\backtesting.py:1637: UserWarning: Some trades remain open at the end of backtest. Use `Backtest(..., finalize_trades=True)` to close them and include them in stats.\n",
      "  for stats in (bt.run(**params)\n",
      "c:\\Users\\zuria\\Projects\\backtesting-VSMAX\\.venv\\Lib\\site-packages\\backtesting\\backtesting.py:1637: UserWarning: Some trades remain open at the end of backtest. Use `Backtest(..., finalize_trades=True)` to close them and include them in stats.\n",
      "  for stats in (bt.run(**params)\n",
      "c:\\Users\\zuria\\Projects\\backtesting-VSMAX\\.venv\\Lib\\site-packages\\backtesting\\backtesting.py:1637: UserWarning: Some trades remain open at the end of backtest. Use `Backtest(..., finalize_trades=True)` to close them and include them in stats.\n",
      "  for stats in (bt.run(**params)\n",
      "c:\\Users\\zuria\\Projects\\backtesting-VSMAX\\.venv\\Lib\\site-packages\\backtesting\\backtesting.py:1637: UserWarning: Some trades remain open at the end of backtest. Use `Backtest(..., finalize_trades=True)` to close them and include them in stats.\n",
      "  for stats in (bt.run(**params)\n",
      "c:\\Users\\zuria\\Projects\\backtesting-VSMAX\\.venv\\Lib\\site-packages\\backtesting\\backtesting.py:1637: UserWarning: Some trades remain open at the end of backtest. Use `Backtest(..., finalize_trades=True)` to close them and include them in stats.\n",
      "  for stats in (bt.run(**params)\n",
      "c:\\Users\\zuria\\Projects\\backtesting-VSMAX\\.venv\\Lib\\site-packages\\backtesting\\backtesting.py:1637: UserWarning: Some trades remain open at the end of backtest. Use `Backtest(..., finalize_trades=True)` to close them and include them in stats.\n",
      "  for stats in (bt.run(**params)\n",
      "c:\\Users\\zuria\\Projects\\backtesting-VSMAX\\.venv\\Lib\\site-packages\\backtesting\\backtesting.py:1637: UserWarning: Some trades remain open at the end of backtest. Use `Backtest(..., finalize_trades=True)` to close them and include them in stats.\n",
      "  for stats in (bt.run(**params)\n"
     ]
    },
    {
     "name": "stdout",
     "output_type": "stream",
     "text": [
      "STRATEGY                ->  SmaCross(n1=5,n2=11)\n",
      "Sharpe ratio            ->  1.3451549810504462\n",
      "Return %                ->  16.7494874\n",
      "Buy and Hold Return     ->  13.272290048094703\n",
      "Max. Drawdown [%]       ->  -5.906551926157477\n",
      "Avg. Drawdown [%]       ->  -1.4903432017817415\n",
      "Max. Drawdown Duration  ->  92 days 00:00:00\n",
      "Avg. Drawdown Duration  ->  23 days 00:00:00\n",
      "Trades\n",
      "    Size  EntryBar  ExitBar  EntryPrice  ExitPrice    SL    TP         PnL  \\\n",
      "0      4        27       33      115.19     114.09  None  None    -6.23424   \n",
      "1     83        11       33      113.13     114.09  None  None    41.96148   \n",
      "2     79        45       49      120.35     120.70  None  None   -10.43590   \n",
      "3     76        58       66      124.56     122.99  None  None  -156.94760   \n",
      "4      4        92      102      119.04     118.19  None  None    -5.29784   \n",
      "5     81        87      102      114.15     118.19  None  None   289.60092   \n",
      "6     89       135      139      108.01     108.33  None  None   -10.02852   \n",
      "7     99       155      177       96.96     108.68  None  None  1119.56328   \n",
      "8      5       201      213      113.58     114.58  None  None     2.71840   \n",
      "9     96       187      213      110.38     114.58  None  None   360.00768   \n",
      "10    93       219      225      118.51     115.71  None  None  -303.96492   \n",
      "\n",
      "    Commission  ReturnPct  EntryTime   ExitTime Duration   Tag  \\\n",
      "0      1.83424  -0.013530 2024-10-14 2024-10-22   8 days  None   \n",
      "1     37.71852   0.004469 2024-09-20 2024-10-22  32 days  None   \n",
      "2     38.08590  -0.001098 2024-11-07 2024-11-13   6 days  None   \n",
      "3     37.62760  -0.016579 2024-11-26 2024-12-09  13 days  None   \n",
      "4      1.89784  -0.011126 2025-01-17 2025-02-03  17 days  None   \n",
      "5     37.63908   0.031321 2025-01-10 2025-02-03  24 days  None   \n",
      "6     38.50852  -0.001043 2025-03-21 2025-03-27   6 days  None   \n",
      "7     40.71672   0.116633 2025-04-21 2025-05-21  30 days  None   \n",
      "8      2.28160   0.004787 2025-06-26 2025-07-15  19 days  None   \n",
      "9     43.19232   0.033974 2025-06-05 2025-07-15  40 days  None   \n",
      "10    43.56492  -0.027579 2025-07-23 2025-07-31   8 days  None   \n",
      "\n",
      "    Entry_SMA(C,5)  Exit_SMA(C,5)  Entry_SMA(C,11)  Exit_SMA(C,11)  \\\n",
      "0          113.634        115.416       113.148182      114.566364   \n",
      "1          112.424        115.416       109.874545      114.566364   \n",
      "2          116.512        121.280       115.092727      117.818182   \n",
      "3          122.888        123.900       121.031818      124.217273   \n",
      "4          117.302        119.558       116.473636      119.925455   \n",
      "5          115.936        119.558       115.921818      119.925455   \n",
      "6          108.386        109.358       107.479091      108.386364   \n",
      "7           98.788        111.230        97.789091      109.928182   \n",
      "8          112.330        116.252       111.634545      115.741818   \n",
      "9          110.028        116.252       109.585455      115.741818   \n",
      "10         116.976        117.170       116.497273      117.109091   \n",
      "\n",
      "    Entry_entry size  Exit_entry size  \n",
      "0                NaN              NaN  \n",
      "1                NaN              NaN  \n",
      "2                NaN              NaN  \n",
      "3                NaN              NaN  \n",
      "4                NaN              NaN  \n",
      "5                NaN              NaN  \n",
      "6                NaN              NaN  \n",
      "7                NaN              NaN  \n",
      "8                NaN              NaN  \n",
      "9                NaN              NaN  \n",
      "10               NaN              NaN  \n",
      "CPU times: total: 11.5 s\n",
      "Wall time: 11.9 s\n"
     ]
    },
    {
     "name": "stderr",
     "output_type": "stream",
     "text": [
      "c:\\Users\\zuria\\Projects\\backtesting-VSMAX\\.venv\\Lib\\site-packages\\backtesting\\backtesting.py:1545: UserWarning: Some trades remain open at the end of backtest. Use `Backtest(..., finalize_trades=True)` to close them and include them in stats.\n",
      "  stats = self.run(**dict(zip(heatmap.index.names, best_params)))\n"
     ]
    }
   ],
   "source": [
    "%%time\n",
    "\n",
    "# Generating all combinations within these ranges and finding the most optimal one maximizing final equity\n",
    "stats = bt.optimize(n1=range(5,50,1),\n",
    "                    n2=range(11,100,10),\n",
    "                    maximize='Equity Final [$]',\n",
    "                    constraint=lambda param: param.n1 < param.n2)\n",
    "optimized_results.append(stats)\n",
    "retrieve(stats,True)\n"
   ]
  },
  {
   "cell_type": "code",
   "execution_count": 13,
   "id": "f9d96ee6",
   "metadata": {},
   "outputs": [
    {
     "name": "stdout",
     "output_type": "stream",
     "text": [
      "STRATEGY                ->  SmaCross\n",
      "Sharpe ratio            ->  1.0758484143066014\n",
      "Return %                ->  5.280033600000006\n",
      "Buy and Hold Return     ->  13.272290048094703\n",
      "Max. Drawdown [%]       ->  -1.8386780044450601\n",
      "Avg. Drawdown [%]       ->  -1.1517425433079738\n",
      "Max. Drawdown Duration  ->  9 days 00:00:00\n",
      "Avg. Drawdown Duration  ->  8 days 00:00:00\n",
      "Trades\n",
      "Empty DataFrame\n",
      "Columns: [Size, EntryBar, ExitBar, EntryPrice, ExitPrice, SL, TP, PnL, Commission, ReturnPct, EntryTime, ExitTime, Duration, Tag]\n",
      "Index: []\n"
     ]
    },
    {
     "name": "stderr",
     "output_type": "stream",
     "text": [
      "C:\\Users\\zuria\\AppData\\Local\\Temp\\ipykernel_5644\\3516023035.py:1: UserWarning: Data index is not sorted in ascending order. Sorting.\n",
      "  bt = Backtest(df, SmaCross, commission=.002)\n",
      "C:\\Users\\zuria\\AppData\\Local\\Temp\\ipykernel_5644\\3516023035.py:3: UserWarning: Some trades remain open at the end of backtest. Use `Backtest(..., finalize_trades=True)` to close them and include them in stats.\n",
      "  stats = bt.run()\n"
     ]
    }
   ],
   "source": [
    "bt = Backtest(df, SmaCross, commission=.002)\n",
    "\n",
    "stats = bt.run()\n",
    "\n",
    "retrieve(stats,True)"
   ]
  }
 ],
 "metadata": {
  "kernelspec": {
   "display_name": ".venv",
   "language": "python",
   "name": "python3"
  },
  "language_info": {
   "codemirror_mode": {
    "name": "ipython",
    "version": 3
   },
   "file_extension": ".py",
   "mimetype": "text/x-python",
   "name": "python",
   "nbconvert_exporter": "python",
   "pygments_lexer": "ipython3",
   "version": "3.13.7"
  }
 },
 "nbformat": 4,
 "nbformat_minor": 5
}
