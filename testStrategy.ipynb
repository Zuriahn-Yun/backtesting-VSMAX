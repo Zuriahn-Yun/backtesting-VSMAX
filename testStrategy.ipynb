{
 "cells": [
  {
   "cell_type": "markdown",
   "id": "6910f32d",
   "metadata": {},
   "source": [
    "# Import Data and Clean"
   ]
  },
  {
   "cell_type": "code",
   "execution_count": 1,
   "id": "6595e040",
   "metadata": {},
   "outputs": [
    {
     "name": "stderr",
     "output_type": "stream",
     "text": [
      "c:\\Users\\zuria\\Projects\\backtesting-VSMAX\\.venv\\Lib\\site-packages\\backtesting\\_plotting.py:55: UserWarning: Jupyter Notebook detected. Setting Bokeh output to notebook. This may not work in Jupyter clients without JavaScript support, such as old IDEs. Reset with `backtesting.set_bokeh_output(notebook=False)`.\n",
      "  warnings.warn('Jupyter Notebook detected. '\n"
     ]
    },
    {
     "data": {
      "text/html": [
       "    <style>\n",
       "        .bk-notebook-logo {\n",
       "            display: block;\n",
       "            width: 20px;\n",
       "            height: 20px;\n",
       "            background-image: url(data:image/png;base64,iVBORw0KGgoAAAANSUhEUgAAABQAAAAUCAYAAACNiR0NAAAABHNCSVQICAgIfAhkiAAAAAlwSFlzAAALEgAACxIB0t1+/AAAABx0RVh0U29mdHdhcmUAQWRvYmUgRmlyZXdvcmtzIENTNui8sowAAAOkSURBVDiNjZRtaJVlGMd/1/08zzln5zjP1LWcU9N0NkN8m2CYjpgQYQXqSs0I84OLIC0hkEKoPtiH3gmKoiJDU7QpLgoLjLIQCpEsNJ1vqUOdO7ppbuec5+V+rj4ctwzd8IIbbi6u+8f1539dt3A78eXC7QizUF7gyV1fD1Yqg4JWz84yffhm0qkFqBogB9rM8tZdtwVsPUhWhGcFJngGeWrPzHm5oaMmkfEg1usvLFyc8jLRqDOMru7AyC8saQr7GG7f5fvDeH7Ej8CM66nIF+8yngt6HWaKh7k49Soy9nXurCi1o3qUbS3zWfrYeQDTB/Qj6kX6Ybhw4B+bOYoLKCC9H3Nu/leUTZ1JdRWkkn2ldcCamzrcf47KKXdAJllSlxAOkRgyHsGC/zRday5Qld9DyoM4/q/rUoy/CXh3jzOu3bHUVZeU+DEn8FInkPBFlu3+nW3Nw0mk6vCDiWg8CeJaxEwuHS3+z5RgY+YBR6V1Z1nxSOfoaPa4LASWxxdNp+VWTk7+4vzaou8v8PN+xo+KY2xsw6une2frhw05CTYOmQvsEhjhWjn0bmXPjpE1+kplmmkP3suftwTubK9Vq22qKmrBhpY4jvd5afdRA3wGjFAgcnTK2s4hY0/GPNIb0nErGMCRxWOOX64Z8RAC4oCXdklmEvcL8o0BfkNK4lUg9HTl+oPlQxdNo3Mg4Nv175e/1LDGzZen30MEjRUtmXSfiTVu1kK8W4txyV6BMKlbgk3lMwYCiusNy9fVfvvwMxv8Ynl6vxoByANLTWplvuj/nF9m2+PDtt1eiHPBr1oIfhCChQMBw6Aw0UulqTKZdfVvfG7VcfIqLG9bcldL/+pdWTLxLUy8Qq38heUIjh4XlzZxzQm19lLFlr8vdQ97rjZVOLf8nclzckbcD4wxXMidpX30sFd37Fv/GtwwhzhxGVAprjbg0gCAEeIgwCZyTV2Z1REEW8O4py0wsjeloKoMr6iCY6dP92H6Vw/oTyICIthibxjm/DfN9lVz8IqtqKYLUXfoKVMVQVVJOElGjrnnUt9T9wbgp8AyYKaGlqingHZU/uG2NTZSVqwHQTWkx9hxjkpWDaCg6Ckj5qebgBVbT3V3NNXMSiWSDdGV3hrtzla7J+duwPOToIg42ChPQOQjspnSlp1V+Gjdged7+8UN5CRAV7a5EdFNwCjEaBR27b3W890TE7g24NAP/mMDXRWrGoFPQI9ls/MWO2dWFAar/xcOIImbbpA3zgAAAABJRU5ErkJggg==);\n",
       "        }\n",
       "    </style>\n",
       "    <div>\n",
       "        <a href=\"https://bokeh.org\" target=\"_blank\" class=\"bk-notebook-logo\"></a>\n",
       "        <span id=\"de961262-4f2a-4018-9ad4-ab3f9c711026\">Loading BokehJS ...</span>\n",
       "    </div>\n"
      ]
     },
     "metadata": {},
     "output_type": "display_data"
    },
    {
     "data": {
      "application/javascript": "'use strict';\n(function(root) {\n  function now() {\n    return new Date();\n  }\n\n  const force = true;\n\n  if (typeof root._bokeh_onload_callbacks === \"undefined\" || force === true) {\n    root._bokeh_onload_callbacks = [];\n    root._bokeh_is_loading = undefined;\n  }\n\nconst JS_MIME_TYPE = 'application/javascript';\n  const HTML_MIME_TYPE = 'text/html';\n  const EXEC_MIME_TYPE = 'application/vnd.bokehjs_exec.v0+json';\n  const CLASS_NAME = 'output_bokeh rendered_html';\n\n  /**\n   * Render data to the DOM node\n   */\n  function render(props, node) {\n    const script = document.createElement(\"script\");\n    node.appendChild(script);\n  }\n\n  /**\n   * Handle when an output is cleared or removed\n   */\n  function handleClearOutput(event, handle) {\n    function drop(id) {\n      const view = Bokeh.index.get_by_id(id)\n      if (view != null) {\n        view.model.document.clear()\n        Bokeh.index.delete(view)\n      }\n    }\n\n    const cell = handle.cell;\n\n    const id = cell.output_area._bokeh_element_id;\n    const server_id = cell.output_area._bokeh_server_id;\n\n    // Clean up Bokeh references\n    if (id != null) {\n      drop(id)\n    }\n\n    if (server_id !== undefined) {\n      // Clean up Bokeh references\n      const cmd_clean = \"from bokeh.io.state import curstate; print(curstate().uuid_to_server['\" + server_id + \"'].get_sessions()[0].document.roots[0]._id)\";\n      cell.notebook.kernel.execute(cmd_clean, {\n        iopub: {\n          output: function(msg) {\n            const id = msg.content.text.trim()\n            drop(id)\n          }\n        }\n      });\n      // Destroy server and session\n      const cmd_destroy = \"import bokeh.io.notebook as ion; ion.destroy_server('\" + server_id + \"')\";\n      cell.notebook.kernel.execute(cmd_destroy);\n    }\n  }\n\n  /**\n   * Handle when a new output is added\n   */\n  function handleAddOutput(event, handle) {\n    const output_area = handle.output_area;\n    const output = handle.output;\n\n    // limit handleAddOutput to display_data with EXEC_MIME_TYPE content only\n    if ((output.output_type != \"display_data\") || (!Object.prototype.hasOwnProperty.call(output.data, EXEC_MIME_TYPE))) {\n      return\n    }\n\n    const toinsert = output_area.element.find(\".\" + CLASS_NAME.split(' ')[0]);\n\n    if (output.metadata[EXEC_MIME_TYPE][\"id\"] !== undefined) {\n      toinsert[toinsert.length - 1].firstChild.textContent = output.data[JS_MIME_TYPE];\n      // store reference to embed id on output_area\n      output_area._bokeh_element_id = output.metadata[EXEC_MIME_TYPE][\"id\"];\n    }\n    if (output.metadata[EXEC_MIME_TYPE][\"server_id\"] !== undefined) {\n      const bk_div = document.createElement(\"div\");\n      bk_div.innerHTML = output.data[HTML_MIME_TYPE];\n      const script_attrs = bk_div.children[0].attributes;\n      for (let i = 0; i < script_attrs.length; i++) {\n        toinsert[toinsert.length - 1].firstChild.setAttribute(script_attrs[i].name, script_attrs[i].value);\n        toinsert[toinsert.length - 1].firstChild.textContent = bk_div.children[0].textContent\n      }\n      // store reference to server id on output_area\n      output_area._bokeh_server_id = output.metadata[EXEC_MIME_TYPE][\"server_id\"];\n    }\n  }\n\n  function register_renderer(events, OutputArea) {\n\n    function append_mime(data, metadata, element) {\n      // create a DOM node to render to\n      const toinsert = this.create_output_subarea(\n        metadata,\n        CLASS_NAME,\n        EXEC_MIME_TYPE\n      );\n      this.keyboard_manager.register_events(toinsert);\n      // Render to node\n      const props = {data: data, metadata: metadata[EXEC_MIME_TYPE]};\n      render(props, toinsert[toinsert.length - 1]);\n      element.append(toinsert);\n      return toinsert\n    }\n\n    /* Handle when an output is cleared or removed */\n    events.on('clear_output.CodeCell', handleClearOutput);\n    events.on('delete.Cell', handleClearOutput);\n\n    /* Handle when a new output is added */\n    events.on('output_added.OutputArea', handleAddOutput);\n\n    /**\n     * Register the mime type and append_mime function with output_area\n     */\n    OutputArea.prototype.register_mime_type(EXEC_MIME_TYPE, append_mime, {\n      /* Is output safe? */\n      safe: true,\n      /* Index of renderer in `output_area.display_order` */\n      index: 0\n    });\n  }\n\n  // register the mime type if in Jupyter Notebook environment and previously unregistered\n  if (root.Jupyter !== undefined) {\n    const events = require('base/js/events');\n    const OutputArea = require('notebook/js/outputarea').OutputArea;\n\n    if (OutputArea.prototype.mime_types().indexOf(EXEC_MIME_TYPE) == -1) {\n      register_renderer(events, OutputArea);\n    }\n  }\n  if (typeof (root._bokeh_timeout) === \"undefined\" || force === true) {\n    root._bokeh_timeout = Date.now() + 5000;\n    root._bokeh_failed_load = false;\n  }\n\n  const NB_LOAD_WARNING = {'data': {'text/html':\n     \"<div style='background-color: #fdd'>\\n\"+\n     \"<p>\\n\"+\n     \"BokehJS does not appear to have successfully loaded. If loading BokehJS from CDN, this \\n\"+\n     \"may be due to a slow or bad network connection. Possible fixes:\\n\"+\n     \"</p>\\n\"+\n     \"<ul>\\n\"+\n     \"<li>re-rerun `output_notebook()` to attempt to load from CDN again, or</li>\\n\"+\n     \"<li>use INLINE resources instead, as so:</li>\\n\"+\n     \"</ul>\\n\"+\n     \"<code>\\n\"+\n     \"from bokeh.resources import INLINE\\n\"+\n     \"output_notebook(resources=INLINE)\\n\"+\n     \"</code>\\n\"+\n     \"</div>\"}};\n\n  function display_loaded(error = null) {\n    const el = document.getElementById(\"de961262-4f2a-4018-9ad4-ab3f9c711026\");\n    if (el != null) {\n      const html = (() => {\n        if (typeof root.Bokeh === \"undefined\") {\n          if (error == null) {\n            return \"BokehJS is loading ...\";\n          } else {\n            return \"BokehJS failed to load.\";\n          }\n        } else {\n          const prefix = `BokehJS ${root.Bokeh.version}`;\n          if (error == null) {\n            return `${prefix} successfully loaded.`;\n          } else {\n            return `${prefix} <b>encountered errors</b> while loading and may not function as expected.`;\n          }\n        }\n      })();\n      el.innerHTML = html;\n\n      if (error != null) {\n        const wrapper = document.createElement(\"div\");\n        wrapper.style.overflow = \"auto\";\n        wrapper.style.height = \"5em\";\n        wrapper.style.resize = \"vertical\";\n        const content = document.createElement(\"div\");\n        content.style.fontFamily = \"monospace\";\n        content.style.whiteSpace = \"pre-wrap\";\n        content.style.backgroundColor = \"rgb(255, 221, 221)\";\n        content.textContent = error.stack ?? error.toString();\n        wrapper.append(content);\n        el.append(wrapper);\n      }\n    } else if (Date.now() < root._bokeh_timeout) {\n      setTimeout(() => display_loaded(error), 100);\n    }\n  }\n\n  function run_callbacks() {\n    try {\n      root._bokeh_onload_callbacks.forEach(function(callback) {\n        if (callback != null)\n          callback();\n      });\n    } finally {\n      delete root._bokeh_onload_callbacks\n    }\n    console.debug(\"Bokeh: all callbacks have finished\");\n  }\n\n  function load_libs(css_urls, js_urls, callback) {\n    if (css_urls == null) css_urls = [];\n    if (js_urls == null) js_urls = [];\n\n    root._bokeh_onload_callbacks.push(callback);\n    if (root._bokeh_is_loading > 0) {\n      console.debug(\"Bokeh: BokehJS is being loaded, scheduling callback at\", now());\n      return null;\n    }\n    if (js_urls == null || js_urls.length === 0) {\n      run_callbacks();\n      return null;\n    }\n    console.debug(\"Bokeh: BokehJS not loaded, scheduling load and callback at\", now());\n    root._bokeh_is_loading = css_urls.length + js_urls.length;\n\n    function on_load() {\n      root._bokeh_is_loading--;\n      if (root._bokeh_is_loading === 0) {\n        console.debug(\"Bokeh: all BokehJS libraries/stylesheets loaded\");\n        run_callbacks()\n      }\n    }\n\n    function on_error(url) {\n      console.error(\"failed to load \" + url);\n    }\n\n    for (let i = 0; i < css_urls.length; i++) {\n      const url = css_urls[i];\n      const element = document.createElement(\"link\");\n      element.onload = on_load;\n      element.onerror = on_error.bind(null, url);\n      element.rel = \"stylesheet\";\n      element.type = \"text/css\";\n      element.href = url;\n      console.debug(\"Bokeh: injecting link tag for BokehJS stylesheet: \", url);\n      document.body.appendChild(element);\n    }\n\n    for (let i = 0; i < js_urls.length; i++) {\n      const url = js_urls[i];\n      const element = document.createElement('script');\n      element.onload = on_load;\n      element.onerror = on_error.bind(null, url);\n      element.async = false;\n      element.src = url;\n      console.debug(\"Bokeh: injecting script tag for BokehJS library: \", url);\n      document.head.appendChild(element);\n    }\n  };\n\n  function inject_raw_css(css) {\n    const element = document.createElement(\"style\");\n    element.appendChild(document.createTextNode(css));\n    document.body.appendChild(element);\n  }\n\n  const js_urls = [\"https://cdn.bokeh.org/bokeh/release/bokeh-3.8.0.min.js\", \"https://cdn.bokeh.org/bokeh/release/bokeh-gl-3.8.0.min.js\", \"https://cdn.bokeh.org/bokeh/release/bokeh-widgets-3.8.0.min.js\", \"https://cdn.bokeh.org/bokeh/release/bokeh-tables-3.8.0.min.js\", \"https://cdn.bokeh.org/bokeh/release/bokeh-mathjax-3.8.0.min.js\"];\n  const css_urls = [];\n\n  const inline_js = [    function(Bokeh) {\n      Bokeh.set_log_level(\"info\");\n    },\nfunction(Bokeh) {\n    }\n  ];\n\n  function run_inline_js() {\n    if (root.Bokeh !== undefined || force === true) {\n      try {\n            for (let i = 0; i < inline_js.length; i++) {\n      inline_js[i].call(root, root.Bokeh);\n    }\n\n      } catch (error) {display_loaded(error);throw error;\n      }if (force === true) {\n        display_loaded();\n      }} else if (Date.now() < root._bokeh_timeout) {\n      setTimeout(run_inline_js, 100);\n    } else if (!root._bokeh_failed_load) {\n      console.log(\"Bokeh: BokehJS failed to load within specified timeout.\");\n      root._bokeh_failed_load = true;\n    } else if (force !== true) {\n      const cell = $(document.getElementById(\"de961262-4f2a-4018-9ad4-ab3f9c711026\")).parents('.cell').data().cell;\n      cell.output_area.append_execute_result(NB_LOAD_WARNING)\n    }\n  }\n\n  if (root._bokeh_is_loading === 0) {\n    console.debug(\"Bokeh: BokehJS loaded, going straight to plotting\");\n    run_inline_js();\n  } else {\n    load_libs(css_urls, js_urls, function() {\n      console.debug(\"Bokeh: BokehJS plotting callback run at\", now());\n      run_inline_js();\n    });\n  }\n}(window));",
      "application/vnd.bokehjs_load.v0+json": ""
     },
     "metadata": {},
     "output_type": "display_data"
    },
    {
     "name": "stdout",
     "output_type": "stream",
     "text": [
      "              Open    High     Low   Close\n",
      "Date                                      \n",
      "2025-09-05  122.47  122.47  122.47  122.47\n",
      "2025-09-04  121.61  121.61  121.61  121.61\n",
      "2025-09-03  120.15  120.15  120.15  120.15\n",
      "2025-09-02  120.33  120.33  120.33  120.33\n",
      "2025-08-29  121.03  121.03  121.03  121.03\n"
     ]
    }
   ],
   "source": [
    "import pandas as pd \n",
    "from backtesting import Strategy\n",
    "from backtesting.lib import crossover\n",
    "\n",
    "# Covert Date to Date and times\n",
    "df = pd.read_csv(\"FUND_US_XNAS_VSMAX_9_8_2024_9_8_2025.csv\", parse_dates=['Date'], index_col='Date')\n",
    "\n",
    "# Remove possible timezone data\n",
    "df.index = df.index.tz_localize(None)\n",
    "\n",
    "print(df.head())"
   ]
  },
  {
   "cell_type": "code",
   "execution_count": 10,
   "id": "da885875",
   "metadata": {},
   "outputs": [],
   "source": [
    "import bokeh.themes\n",
    "import bokeh.document\n",
    "\n",
    "# Overwrite Global Theme\n",
    "# Monkey patch: set default theme to carbon\n",
    "bokeh.document.Document.theme = bokeh.themes.built_in_themes['night_sky']"
   ]
  },
  {
   "cell_type": "markdown",
   "id": "6c8d095a",
   "metadata": {},
   "source": [
    "# Simple Moving Average"
   ]
  },
  {
   "cell_type": "code",
   "execution_count": 3,
   "id": "0874e733",
   "metadata": {},
   "outputs": [],
   "source": [
    "def SMA(values, n):\n",
    "    \"\"\"\n",
    "    Return simple moving average of `values`, at\n",
    "    each step taking into account `n` previous values.\n",
    "    \"\"\"\n",
    "    return pd.Series(values).rolling(n).mean()"
   ]
  },
  {
   "cell_type": "code",
   "execution_count": 4,
   "id": "2e717461",
   "metadata": {},
   "outputs": [],
   "source": [
    "from backtesting import Strategy\n",
    "from backtesting.lib import crossover\n",
    "\n",
    "class SmaCross(Strategy):\n",
    "    # Define the two MA lags as *class variables*\n",
    "    # for later optimization\n",
    "    n1 = 10\n",
    "    n2 = 20\n",
    "    \n",
    "    def init(self):\n",
    "        # Precompute the two moving averages\n",
    "        self.sma1 = self.I(SMA, self.data.Close, self.n1)\n",
    "        self.sma2 = self.I(SMA, self.data.Close, self.n2)\n",
    "    \n",
    "    def next(self):\n",
    "        # If sma1 crosses above sma2, close any existing\n",
    "        # short trades, and buy the asset\n",
    "        if crossover(self.sma1, self.sma2):\n",
    "            self.position.close()\n",
    "            self.buy()\n",
    "\n",
    "        # Else, if sma1 crosses below sma2, close any existing\n",
    "        # long trades, and sell the asset\n",
    "        elif crossover(self.sma2, self.sma1):\n",
    "            self.position.close()\n",
    "            self.sell()"
   ]
  },
  {
   "cell_type": "code",
   "execution_count": 5,
   "id": "19773c18",
   "metadata": {},
   "outputs": [],
   "source": [
    "import pandas as pd\n",
    "from backtesting.lib import SignalStrategy, TrailingStrategy\n",
    "\n",
    "\n",
    "class SmaCross(SignalStrategy,\n",
    "               TrailingStrategy):\n",
    "    n1 = 50\n",
    "    n2 = 200\n",
    "    \n",
    "    def init(self):\n",
    "        # In init() and in next() it is important to call the\n",
    "        # super method to properly initialize the parent classes\n",
    "        super().init()\n",
    "        \n",
    "        # Precompute the two moving averages\n",
    "        sma1 = self.I(SMA, self.data.Close, self.n1)\n",
    "        sma2 = self.I(SMA, self.data.Close, self.n2)\n",
    "        \n",
    "        # Where sma1 crosses sma2 upwards. Diff gives us [-1,0, *1*]\n",
    "        signal = (pd.Series(sma1) > sma2).astype(int).diff().fillna(0)\n",
    "        signal = signal.replace(-1, 0)  # Upwards/long only\n",
    "        \n",
    "        # Use 95% of available liquidity (at the time) on each order.\n",
    "        # (Leaving a value of 1. would instead buy a single share.)\n",
    "        entry_size = signal * .95\n",
    "                \n",
    "        # Set order entry sizes using the method provided by \n",
    "        # `SignalStrategy`. See the docs.\n",
    "        self.set_signal(entry_size=entry_size)\n",
    "        \n",
    "        # Set trailing stop-loss to 2x ATR using\n",
    "        # the method provided by `TrailingStrategy`\n",
    "        self.set_trailing_sl(2)"
   ]
  },
  {
   "cell_type": "code",
   "execution_count": 6,
   "id": "1f7c7baf",
   "metadata": {},
   "outputs": [
    {
     "name": "stderr",
     "output_type": "stream",
     "text": [
      "C:\\Users\\zuria\\AppData\\Local\\Temp\\ipykernel_4156\\2312726828.py:4: UserWarning: Data index is not sorted in ascending order. Sorting.\n",
      "  bt = Backtest(df, SmaCross, commission=.002)\n",
      "C:\\Users\\zuria\\AppData\\Local\\Temp\\ipykernel_4156\\2312726828.py:6: UserWarning: Some trades remain open at the end of backtest. Use `Backtest(..., finalize_trades=True)` to close them and include them in stats.\n",
      "  stats = bt.run()\n"
     ]
    }
   ],
   "source": [
    "from backtesting import Backtest\n",
    "from backtesting.test import GOOG\n",
    "\n",
    "bt = Backtest(df, SmaCross, commission=.002)\n",
    "\n",
    "stats = bt.run()\n",
    "\n",
    "\n",
    "# Things we care about -> Sharpe Ratio , Return [%] , Buy & Hold Return [%] , Max. Drawdown [%]\n",
    "# Avg. Drawdown [%]                     \n",
    "# Max. Drawdown Duration      \n",
    "# Avg. Drawdown Duration       \n",
    "\n",
    "# Most important stats, currenty this strategy sucks\n",
    "def retrieve(stats,trades):\n",
    "    print(\"STRATEGY                -> \",stats[\"_strategy\"])\n",
    "    print(\"Sharpe ratio            -> \", stats[\"Sharpe Ratio\"])\n",
    "    print(\"Return %                -> \", stats[\"Return [%]\"])\n",
    "    print(\"Buy and Hold Return     -> \", stats[\"Buy & Hold Return [%]\"])\n",
    "    print(\"Max. Drawdown [%]       -> \", stats[\"Max. Drawdown [%]\"])\n",
    "    print(\"Avg. Drawdown [%]       -> \", stats[\"Avg. Drawdown [%]\"])\n",
    "    print(\"Max. Drawdown Duration  -> \", stats[\"Max. Drawdown Duration\"])\n",
    "    print(\"Avg. Drawdown Duration  -> \", stats[\"Avg. Drawdown Duration\"])\n",
    "    if trades == True:\n",
    "        print(\"Trades\")\n",
    "        print(stats[\"_trades\"])"
   ]
  },
  {
   "cell_type": "code",
   "execution_count": 7,
   "id": "9531cd25",
   "metadata": {},
   "outputs": [],
   "source": [
    "optimized_results = []"
   ]
  },
  {
   "cell_type": "code",
   "execution_count": 8,
   "id": "c3b5949e",
   "metadata": {},
   "outputs": [
    {
     "name": "stderr",
     "output_type": "stream",
     "text": [
      "c:\\Users\\zuria\\Projects\\backtesting-VSMAX\\.venv\\Lib\\site-packages\\backtesting\\backtesting.py:1624: UserWarning: Searching for best of 309 configurations.\n",
      "  output = _optimize_grid()\n",
      "c:\\Users\\zuria\\Projects\\backtesting-VSMAX\\.venv\\Lib\\site-packages\\backtesting\\backtesting.py:1624: RuntimeWarning: If you want to use multi-process optimization with `multiprocessing.get_start_method() == 'spawn'` (e.g. on Windows),set `backtesting.Pool = multiprocessing.Pool` (or of the desired context) and hide `bt.optimize()` call behind a `if __name__ == '__main__'` guard. Currently using thread-based paralellism, which might be slightly slower for non-numpy / non-GIL-releasing code. See https://github.com/kernc/backtesting.py/issues/1256\n",
      "  output = _optimize_grid()\n",
      "c:\\Users\\zuria\\Projects\\backtesting-VSMAX\\.venv\\Lib\\site-packages\\backtesting\\backtesting.py:1637: UserWarning: Some trades remain open at the end of backtest. Use `Backtest(..., finalize_trades=True)` to close them and include them in stats.\n",
      "  for stats in (bt.run(**params)\n",
      "c:\\Users\\zuria\\Projects\\backtesting-VSMAX\\.venv\\Lib\\site-packages\\backtesting\\backtesting.py:1637: UserWarning: Some trades remain open at the end of backtest. Use `Backtest(..., finalize_trades=True)` to close them and include them in stats.\n",
      "  for stats in (bt.run(**params)\n",
      "c:\\Users\\zuria\\Projects\\backtesting-VSMAX\\.venv\\Lib\\site-packages\\backtesting\\backtesting.py:1637: UserWarning: Some trades remain open at the end of backtest. Use `Backtest(..., finalize_trades=True)` to close them and include them in stats.\n",
      "  for stats in (bt.run(**params)\n",
      "c:\\Users\\zuria\\Projects\\backtesting-VSMAX\\.venv\\Lib\\site-packages\\backtesting\\backtesting.py:1637: UserWarning: Some trades remain open at the end of backtest. Use `Backtest(..., finalize_trades=True)` to close them and include them in stats.\n",
      "  for stats in (bt.run(**params)\n",
      "c:\\Users\\zuria\\Projects\\backtesting-VSMAX\\.venv\\Lib\\site-packages\\backtesting\\backtesting.py:1637: UserWarning: Some trades remain open at the end of backtest. Use `Backtest(..., finalize_trades=True)` to close them and include them in stats.\n",
      "  for stats in (bt.run(**params)\n",
      "c:\\Users\\zuria\\Projects\\backtesting-VSMAX\\.venv\\Lib\\site-packages\\backtesting\\backtesting.py:1637: UserWarning: Some trades remain open at the end of backtest. Use `Backtest(..., finalize_trades=True)` to close them and include them in stats.\n",
      "  for stats in (bt.run(**params)\n",
      "c:\\Users\\zuria\\Projects\\backtesting-VSMAX\\.venv\\Lib\\site-packages\\backtesting\\backtesting.py:1637: UserWarning: Some trades remain open at the end of backtest. Use `Backtest(..., finalize_trades=True)` to close them and include them in stats.\n",
      "  for stats in (bt.run(**params)\n",
      "c:\\Users\\zuria\\Projects\\backtesting-VSMAX\\.venv\\Lib\\site-packages\\backtesting\\backtesting.py:966: UserWarning: time=204: Broker canceled the relative-sized order due to insufficient margin.\n",
      "  warnings.warn(\n",
      "c:\\Users\\zuria\\Projects\\backtesting-VSMAX\\.venv\\Lib\\site-packages\\backtesting\\backtesting.py:1637: UserWarning: Some trades remain open at the end of backtest. Use `Backtest(..., finalize_trades=True)` to close them and include them in stats.\n",
      "  for stats in (bt.run(**params)\n",
      "c:\\Users\\zuria\\Projects\\backtesting-VSMAX\\.venv\\Lib\\site-packages\\backtesting\\backtesting.py:1637: UserWarning: Some trades remain open at the end of backtest. Use `Backtest(..., finalize_trades=True)` to close them and include them in stats.\n",
      "  for stats in (bt.run(**params)\n",
      "c:\\Users\\zuria\\Projects\\backtesting-VSMAX\\.venv\\Lib\\site-packages\\backtesting\\backtesting.py:1637: UserWarning: Some trades remain open at the end of backtest. Use `Backtest(..., finalize_trades=True)` to close them and include them in stats.\n",
      "  for stats in (bt.run(**params)\n",
      "c:\\Users\\zuria\\Projects\\backtesting-VSMAX\\.venv\\Lib\\site-packages\\backtesting\\backtesting.py:1637: UserWarning: Some trades remain open at the end of backtest. Use `Backtest(..., finalize_trades=True)` to close them and include them in stats.\n",
      "  for stats in (bt.run(**params)\n",
      "c:\\Users\\zuria\\Projects\\backtesting-VSMAX\\.venv\\Lib\\site-packages\\backtesting\\backtesting.py:1637: UserWarning: Some trades remain open at the end of backtest. Use `Backtest(..., finalize_trades=True)` to close them and include them in stats.\n",
      "  for stats in (bt.run(**params)\n",
      "c:\\Users\\zuria\\Projects\\backtesting-VSMAX\\.venv\\Lib\\site-packages\\backtesting\\backtesting.py:1637: UserWarning: Some trades remain open at the end of backtest. Use `Backtest(..., finalize_trades=True)` to close them and include them in stats.\n",
      "  for stats in (bt.run(**params)\n",
      "c:\\Users\\zuria\\Projects\\backtesting-VSMAX\\.venv\\Lib\\site-packages\\backtesting\\backtesting.py:1637: UserWarning: Some trades remain open at the end of backtest. Use `Backtest(..., finalize_trades=True)` to close them and include them in stats.\n",
      "  for stats in (bt.run(**params)\n",
      "c:\\Users\\zuria\\Projects\\backtesting-VSMAX\\.venv\\Lib\\site-packages\\backtesting\\backtesting.py:1637: UserWarning: Some trades remain open at the end of backtest. Use `Backtest(..., finalize_trades=True)` to close them and include them in stats.\n",
      "  for stats in (bt.run(**params)\n",
      "c:\\Users\\zuria\\Projects\\backtesting-VSMAX\\.venv\\Lib\\site-packages\\backtesting\\backtesting.py:1637: UserWarning: Some trades remain open at the end of backtest. Use `Backtest(..., finalize_trades=True)` to close them and include them in stats.\n",
      "  for stats in (bt.run(**params)\n",
      "c:\\Users\\zuria\\Projects\\backtesting-VSMAX\\.venv\\Lib\\site-packages\\backtesting\\backtesting.py:1637: UserWarning: Some trades remain open at the end of backtest. Use `Backtest(..., finalize_trades=True)` to close them and include them in stats.\n",
      "  for stats in (bt.run(**params)\n",
      "c:\\Users\\zuria\\Projects\\backtesting-VSMAX\\.venv\\Lib\\site-packages\\backtesting\\backtesting.py:1637: UserWarning: Some trades remain open at the end of backtest. Use `Backtest(..., finalize_trades=True)` to close them and include them in stats.\n",
      "  for stats in (bt.run(**params)\n",
      "c:\\Users\\zuria\\Projects\\backtesting-VSMAX\\.venv\\Lib\\site-packages\\backtesting\\backtesting.py:1637: UserWarning: Some trades remain open at the end of backtest. Use `Backtest(..., finalize_trades=True)` to close them and include them in stats.\n",
      "  for stats in (bt.run(**params)\n",
      "c:\\Users\\zuria\\Projects\\backtesting-VSMAX\\.venv\\Lib\\site-packages\\backtesting\\backtesting.py:966: UserWarning: time=234: Broker canceled the relative-sized order due to insufficient margin.\n",
      "  warnings.warn(\n",
      "c:\\Users\\zuria\\Projects\\backtesting-VSMAX\\.venv\\Lib\\site-packages\\backtesting\\backtesting.py:966: UserWarning: time=237: Broker canceled the relative-sized order due to insufficient margin.\n",
      "  warnings.warn(\n",
      "c:\\Users\\zuria\\Projects\\backtesting-VSMAX\\.venv\\Lib\\site-packages\\backtesting\\backtesting.py:966: UserWarning: time=245: Broker canceled the relative-sized order due to insufficient margin.\n",
      "  warnings.warn(\n",
      "c:\\Users\\zuria\\Projects\\backtesting-VSMAX\\.venv\\Lib\\site-packages\\backtesting\\backtesting.py:1637: UserWarning: Some trades remain open at the end of backtest. Use `Backtest(..., finalize_trades=True)` to close them and include them in stats.\n",
      "  for stats in (bt.run(**params)\n",
      "c:\\Users\\zuria\\Projects\\backtesting-VSMAX\\.venv\\Lib\\site-packages\\backtesting\\backtesting.py:1637: UserWarning: Some trades remain open at the end of backtest. Use `Backtest(..., finalize_trades=True)` to close them and include them in stats.\n",
      "  for stats in (bt.run(**params)\n",
      "c:\\Users\\zuria\\Projects\\backtesting-VSMAX\\.venv\\Lib\\site-packages\\backtesting\\backtesting.py:1637: UserWarning: Some trades remain open at the end of backtest. Use `Backtest(..., finalize_trades=True)` to close them and include them in stats.\n",
      "  for stats in (bt.run(**params)\n",
      "c:\\Users\\zuria\\Projects\\backtesting-VSMAX\\.venv\\Lib\\site-packages\\backtesting\\backtesting.py:1637: UserWarning: Some trades remain open at the end of backtest. Use `Backtest(..., finalize_trades=True)` to close them and include them in stats.\n",
      "  for stats in (bt.run(**params)\n",
      "c:\\Users\\zuria\\Projects\\backtesting-VSMAX\\.venv\\Lib\\site-packages\\backtesting\\backtesting.py:1637: UserWarning: Some trades remain open at the end of backtest. Use `Backtest(..., finalize_trades=True)` to close them and include them in stats.\n",
      "  for stats in (bt.run(**params)\n",
      "c:\\Users\\zuria\\Projects\\backtesting-VSMAX\\.venv\\Lib\\site-packages\\backtesting\\backtesting.py:1637: UserWarning: Some trades remain open at the end of backtest. Use `Backtest(..., finalize_trades=True)` to close them and include them in stats.\n",
      "  for stats in (bt.run(**params)\n",
      "c:\\Users\\zuria\\Projects\\backtesting-VSMAX\\.venv\\Lib\\site-packages\\backtesting\\backtesting.py:1637: UserWarning: Some trades remain open at the end of backtest. Use `Backtest(..., finalize_trades=True)` to close them and include them in stats.\n",
      "  for stats in (bt.run(**params)\n",
      "c:\\Users\\zuria\\Projects\\backtesting-VSMAX\\.venv\\Lib\\site-packages\\backtesting\\backtesting.py:1637: UserWarning: Some trades remain open at the end of backtest. Use `Backtest(..., finalize_trades=True)` to close them and include them in stats.\n",
      "  for stats in (bt.run(**params)\n",
      "c:\\Users\\zuria\\Projects\\backtesting-VSMAX\\.venv\\Lib\\site-packages\\backtesting\\backtesting.py:1637: UserWarning: Some trades remain open at the end of backtest. Use `Backtest(..., finalize_trades=True)` to close them and include them in stats.\n",
      "  for stats in (bt.run(**params)\n",
      "c:\\Users\\zuria\\Projects\\backtesting-VSMAX\\.venv\\Lib\\site-packages\\backtesting\\backtesting.py:1637: UserWarning: Some trades remain open at the end of backtest. Use `Backtest(..., finalize_trades=True)` to close them and include them in stats.\n",
      "  for stats in (bt.run(**params)\n",
      "c:\\Users\\zuria\\Projects\\backtesting-VSMAX\\.venv\\Lib\\site-packages\\backtesting\\backtesting.py:1637: UserWarning: Some trades remain open at the end of backtest. Use `Backtest(..., finalize_trades=True)` to close them and include them in stats.\n",
      "  for stats in (bt.run(**params)\n",
      "c:\\Users\\zuria\\Projects\\backtesting-VSMAX\\.venv\\Lib\\site-packages\\backtesting\\backtesting.py:1637: UserWarning: Some trades remain open at the end of backtest. Use `Backtest(..., finalize_trades=True)` to close them and include them in stats.\n",
      "  for stats in (bt.run(**params)\n",
      "c:\\Users\\zuria\\Projects\\backtesting-VSMAX\\.venv\\Lib\\site-packages\\backtesting\\backtesting.py:1637: UserWarning: Some trades remain open at the end of backtest. Use `Backtest(..., finalize_trades=True)` to close them and include them in stats.\n",
      "  for stats in (bt.run(**params)\n",
      "c:\\Users\\zuria\\Projects\\backtesting-VSMAX\\.venv\\Lib\\site-packages\\backtesting\\backtesting.py:1637: UserWarning: Some trades remain open at the end of backtest. Use `Backtest(..., finalize_trades=True)` to close them and include them in stats.\n",
      "  for stats in (bt.run(**params)\n",
      "c:\\Users\\zuria\\Projects\\backtesting-VSMAX\\.venv\\Lib\\site-packages\\backtesting\\backtesting.py:1637: UserWarning: Some trades remain open at the end of backtest. Use `Backtest(..., finalize_trades=True)` to close them and include them in stats.\n",
      "  for stats in (bt.run(**params)\n",
      "c:\\Users\\zuria\\Projects\\backtesting-VSMAX\\.venv\\Lib\\site-packages\\backtesting\\backtesting.py:1637: UserWarning: Some trades remain open at the end of backtest. Use `Backtest(..., finalize_trades=True)` to close them and include them in stats.\n",
      "  for stats in (bt.run(**params)\n",
      "c:\\Users\\zuria\\Projects\\backtesting-VSMAX\\.venv\\Lib\\site-packages\\backtesting\\backtesting.py:1637: UserWarning: Some trades remain open at the end of backtest. Use `Backtest(..., finalize_trades=True)` to close them and include them in stats.\n",
      "  for stats in (bt.run(**params)\n",
      "c:\\Users\\zuria\\Projects\\backtesting-VSMAX\\.venv\\Lib\\site-packages\\backtesting\\backtesting.py:1637: UserWarning: Some trades remain open at the end of backtest. Use `Backtest(..., finalize_trades=True)` to close them and include them in stats.\n",
      "  for stats in (bt.run(**params)\n",
      "c:\\Users\\zuria\\Projects\\backtesting-VSMAX\\.venv\\Lib\\site-packages\\backtesting\\backtesting.py:1637: UserWarning: Some trades remain open at the end of backtest. Use `Backtest(..., finalize_trades=True)` to close them and include them in stats.\n",
      "  for stats in (bt.run(**params)\n",
      "c:\\Users\\zuria\\Projects\\backtesting-VSMAX\\.venv\\Lib\\site-packages\\backtesting\\backtesting.py:1637: UserWarning: Some trades remain open at the end of backtest. Use `Backtest(..., finalize_trades=True)` to close them and include them in stats.\n",
      "  for stats in (bt.run(**params)\n"
     ]
    },
    {
     "name": "stdout",
     "output_type": "stream",
     "text": [
      "STRATEGY                ->  SmaCross(n1=5,n2=11)\n",
      "Sharpe ratio            ->  1.3451549810504462\n",
      "Return %                ->  16.7494874\n",
      "Buy and Hold Return     ->  13.272290048094703\n",
      "Max. Drawdown [%]       ->  -5.906551926157477\n",
      "Avg. Drawdown [%]       ->  -1.4903432017817415\n",
      "Max. Drawdown Duration  ->  92 days 00:00:00\n",
      "Avg. Drawdown Duration  ->  23 days 00:00:00\n",
      "Trades\n",
      "    Size  EntryBar  ExitBar  EntryPrice  ExitPrice    SL    TP         PnL  \\\n",
      "0      4        27       33      115.19     114.09  None  None    -6.23424   \n",
      "1     83        11       33      113.13     114.09  None  None    41.96148   \n",
      "2     79        45       49      120.35     120.70  None  None   -10.43590   \n",
      "3     76        58       66      124.56     122.99  None  None  -156.94760   \n",
      "4      4        92      102      119.04     118.19  None  None    -5.29784   \n",
      "5     81        87      102      114.15     118.19  None  None   289.60092   \n",
      "6     89       135      139      108.01     108.33  None  None   -10.02852   \n",
      "7     99       155      177       96.96     108.68  None  None  1119.56328   \n",
      "8      5       201      213      113.58     114.58  None  None     2.71840   \n",
      "9     96       187      213      110.38     114.58  None  None   360.00768   \n",
      "10    93       219      225      118.51     115.71  None  None  -303.96492   \n",
      "\n",
      "    Commission  ReturnPct  EntryTime   ExitTime Duration   Tag  \\\n",
      "0      1.83424  -0.013530 2024-10-14 2024-10-22   8 days  None   \n",
      "1     37.71852   0.004469 2024-09-20 2024-10-22  32 days  None   \n",
      "2     38.08590  -0.001098 2024-11-07 2024-11-13   6 days  None   \n",
      "3     37.62760  -0.016579 2024-11-26 2024-12-09  13 days  None   \n",
      "4      1.89784  -0.011126 2025-01-17 2025-02-03  17 days  None   \n",
      "5     37.63908   0.031321 2025-01-10 2025-02-03  24 days  None   \n",
      "6     38.50852  -0.001043 2025-03-21 2025-03-27   6 days  None   \n",
      "7     40.71672   0.116633 2025-04-21 2025-05-21  30 days  None   \n",
      "8      2.28160   0.004787 2025-06-26 2025-07-15  19 days  None   \n",
      "9     43.19232   0.033974 2025-06-05 2025-07-15  40 days  None   \n",
      "10    43.56492  -0.027579 2025-07-23 2025-07-31   8 days  None   \n",
      "\n",
      "    Entry_SMA(C,5)  Exit_SMA(C,5)  Entry_SMA(C,11)  Exit_SMA(C,11)  \\\n",
      "0          113.634        115.416       113.148182      114.566364   \n",
      "1          112.424        115.416       109.874545      114.566364   \n",
      "2          116.512        121.280       115.092727      117.818182   \n",
      "3          122.888        123.900       121.031818      124.217273   \n",
      "4          117.302        119.558       116.473636      119.925455   \n",
      "5          115.936        119.558       115.921818      119.925455   \n",
      "6          108.386        109.358       107.479091      108.386364   \n",
      "7           98.788        111.230        97.789091      109.928182   \n",
      "8          112.330        116.252       111.634545      115.741818   \n",
      "9          110.028        116.252       109.585455      115.741818   \n",
      "10         116.976        117.170       116.497273      117.109091   \n",
      "\n",
      "    Entry_entry size  Exit_entry size  \n",
      "0                NaN              NaN  \n",
      "1                NaN              NaN  \n",
      "2                NaN              NaN  \n",
      "3                NaN              NaN  \n",
      "4                NaN              NaN  \n",
      "5                NaN              NaN  \n",
      "6                NaN              NaN  \n",
      "7                NaN              NaN  \n",
      "8                NaN              NaN  \n",
      "9                NaN              NaN  \n",
      "10               NaN              NaN  \n",
      "CPU times: total: 11.5 s\n",
      "Wall time: 11.6 s\n"
     ]
    },
    {
     "name": "stderr",
     "output_type": "stream",
     "text": [
      "c:\\Users\\zuria\\Projects\\backtesting-VSMAX\\.venv\\Lib\\site-packages\\backtesting\\backtesting.py:1545: UserWarning: Some trades remain open at the end of backtest. Use `Backtest(..., finalize_trades=True)` to close them and include them in stats.\n",
      "  stats = self.run(**dict(zip(heatmap.index.names, best_params)))\n"
     ]
    }
   ],
   "source": [
    "%%time\n",
    "\n",
    "# Generating all combinations within these ranges and finding the most optimal one maximizing final equity\n",
    "stats = bt.optimize(n1=range(5,50,1),\n",
    "                    n2=range(11,100,10),\n",
    "                    maximize='Equity Final [$]',\n",
    "                    constraint=lambda param: param.n1 < param.n2)\n",
    "optimized_results.append(stats)\n",
    "retrieve(stats,True)\n"
   ]
  },
  {
   "cell_type": "code",
   "execution_count": 11,
   "id": "f9d96ee6",
   "metadata": {},
   "outputs": [
    {
     "name": "stderr",
     "output_type": "stream",
     "text": [
      "C:\\Users\\zuria\\AppData\\Local\\Temp\\ipykernel_4156\\1210270896.py:1: UserWarning: Data index is not sorted in ascending order. Sorting.\n",
      "  bt = Backtest(df, SmaCross, commission=.002)\n",
      "C:\\Users\\zuria\\AppData\\Local\\Temp\\ipykernel_4156\\1210270896.py:3: UserWarning: Some trades remain open at the end of backtest. Use `Backtest(..., finalize_trades=True)` to close them and include them in stats.\n",
      "  stats = bt.run()\n"
     ]
    },
    {
     "data": {
      "text/html": [
       "\n",
       "  <div id=\"bd96c294-01df-4e3d-b6ab-2fa0441e5ad5\" data-root-id=\"p1467\" style=\"display: contents;\"></div>\n"
      ]
     },
     "metadata": {},
     "output_type": "display_data"
    },
    {
     "data": {
      "application/javascript": "(function(root) {\n  function embed_document(root) {\n  const docs_json = {\"50c32221-d8bf-4901-a347-769b49284d74\":{\"version\":\"3.8.0\",\"title\":\"Bokeh Application\",\"config\":{\"type\":\"object\",\"name\":\"DocumentConfig\",\"id\":\"p1469\",\"attributes\":{\"notifications\":{\"type\":\"object\",\"name\":\"Notifications\",\"id\":\"p1470\"}}},\"roots\":[{\"type\":\"object\",\"name\":\"GridPlot\",\"id\":\"p1467\",\"attributes\":{\"rows\":null,\"cols\":null,\"sizing_mode\":\"stretch_width\",\"toolbar\":{\"type\":\"object\",\"name\":\"Toolbar\",\"id\":\"p1466\",\"attributes\":{\"tools\":[{\"type\":\"object\",\"name\":\"ToolProxy\",\"id\":\"p1454\",\"attributes\":{\"tools\":[{\"type\":\"object\",\"name\":\"PanTool\",\"id\":\"p1274\",\"attributes\":{\"dimensions\":\"width\"}},{\"type\":\"object\",\"name\":\"PanTool\",\"id\":\"p1373\",\"attributes\":{\"dimensions\":\"width\"}},{\"type\":\"object\",\"name\":\"PanTool\",\"id\":\"p1421\",\"attributes\":{\"dimensions\":\"width\"}}]}},{\"type\":\"object\",\"name\":\"ToolProxy\",\"id\":\"p1455\",\"attributes\":{\"tools\":[{\"type\":\"object\",\"name\":\"WheelZoomTool\",\"id\":\"p1275\",\"attributes\":{\"dimensions\":\"width\",\"renderers\":\"auto\",\"maintain_focus\":false}},{\"type\":\"object\",\"name\":\"WheelZoomTool\",\"id\":\"p1374\",\"attributes\":{\"dimensions\":\"width\",\"renderers\":\"auto\",\"maintain_focus\":false}},{\"type\":\"object\",\"name\":\"WheelZoomTool\",\"id\":\"p1422\",\"attributes\":{\"dimensions\":\"width\",\"renderers\":\"auto\",\"maintain_focus\":false}}]}},{\"type\":\"object\",\"name\":\"ToolProxy\",\"id\":\"p1456\",\"attributes\":{\"tools\":[{\"type\":\"object\",\"name\":\"WheelPanTool\",\"id\":\"p1276\"},{\"type\":\"object\",\"name\":\"WheelPanTool\",\"id\":\"p1375\"},{\"type\":\"object\",\"name\":\"WheelPanTool\",\"id\":\"p1423\"}]}},{\"type\":\"object\",\"name\":\"ToolProxy\",\"id\":\"p1457\",\"attributes\":{\"tools\":[{\"type\":\"object\",\"name\":\"BoxZoomTool\",\"id\":\"p1277\",\"attributes\":{\"dimensions\":\"both\",\"overlay\":{\"type\":\"object\",\"name\":\"BoxAnnotation\",\"id\":\"p1278\",\"attributes\":{\"syncable\":false,\"line_color\":\"black\",\"line_alpha\":1.0,\"line_width\":2,\"line_dash\":[4,4],\"fill_color\":\"lightgrey\",\"fill_alpha\":0.5,\"level\":\"overlay\",\"visible\":false,\"left\":{\"type\":\"number\",\"value\":\"nan\"},\"right\":{\"type\":\"number\",\"value\":\"nan\"},\"top\":{\"type\":\"number\",\"value\":\"nan\"},\"bottom\":{\"type\":\"number\",\"value\":\"nan\"},\"left_units\":\"canvas\",\"right_units\":\"canvas\",\"top_units\":\"canvas\",\"bottom_units\":\"canvas\",\"handles\":{\"type\":\"object\",\"name\":\"BoxInteractionHandles\",\"id\":\"p1284\",\"attributes\":{\"all\":{\"type\":\"object\",\"name\":\"AreaVisuals\",\"id\":\"p1283\",\"attributes\":{\"fill_color\":\"white\",\"hover_fill_color\":\"lightgray\"}}}}}}}},{\"type\":\"object\",\"name\":\"BoxZoomTool\",\"id\":\"p1376\",\"attributes\":{\"dimensions\":\"both\",\"overlay\":{\"type\":\"object\",\"name\":\"BoxAnnotation\",\"id\":\"p1377\",\"attributes\":{\"syncable\":false,\"line_color\":\"black\",\"line_alpha\":1.0,\"line_width\":2,\"line_dash\":[4,4],\"fill_color\":\"lightgrey\",\"fill_alpha\":0.5,\"level\":\"overlay\",\"visible\":false,\"left\":{\"type\":\"number\",\"value\":\"nan\"},\"right\":{\"type\":\"number\",\"value\":\"nan\"},\"top\":{\"type\":\"number\",\"value\":\"nan\"},\"bottom\":{\"type\":\"number\",\"value\":\"nan\"},\"left_units\":\"canvas\",\"right_units\":\"canvas\",\"top_units\":\"canvas\",\"bottom_units\":\"canvas\",\"handles\":{\"type\":\"object\",\"name\":\"BoxInteractionHandles\",\"id\":\"p1383\",\"attributes\":{\"all\":{\"type\":\"object\",\"name\":\"AreaVisuals\",\"id\":\"p1382\",\"attributes\":{\"fill_color\":\"white\",\"hover_fill_color\":\"lightgray\"}}}}}}}},{\"type\":\"object\",\"name\":\"BoxZoomTool\",\"id\":\"p1424\",\"attributes\":{\"dimensions\":\"both\",\"overlay\":{\"type\":\"object\",\"name\":\"BoxAnnotation\",\"id\":\"p1425\",\"attributes\":{\"syncable\":false,\"line_color\":\"black\",\"line_alpha\":1.0,\"line_width\":2,\"line_dash\":[4,4],\"fill_color\":\"lightgrey\",\"fill_alpha\":0.5,\"level\":\"overlay\",\"visible\":false,\"left\":{\"type\":\"number\",\"value\":\"nan\"},\"right\":{\"type\":\"number\",\"value\":\"nan\"},\"top\":{\"type\":\"number\",\"value\":\"nan\"},\"bottom\":{\"type\":\"number\",\"value\":\"nan\"},\"left_units\":\"canvas\",\"right_units\":\"canvas\",\"top_units\":\"canvas\",\"bottom_units\":\"canvas\",\"handles\":{\"type\":\"object\",\"name\":\"BoxInteractionHandles\",\"id\":\"p1431\",\"attributes\":{\"all\":{\"type\":\"object\",\"name\":\"AreaVisuals\",\"id\":\"p1430\",\"attributes\":{\"fill_color\":\"white\",\"hover_fill_color\":\"lightgray\"}}}}}}}}]}},{\"type\":\"object\",\"name\":\"ToolProxy\",\"id\":\"p1458\",\"attributes\":{\"tools\":[{\"type\":\"object\",\"name\":\"UndoTool\",\"id\":\"p1285\"},{\"type\":\"object\",\"name\":\"UndoTool\",\"id\":\"p1384\"},{\"type\":\"object\",\"name\":\"UndoTool\",\"id\":\"p1432\"}]}},{\"type\":\"object\",\"name\":\"ToolProxy\",\"id\":\"p1459\",\"attributes\":{\"tools\":[{\"type\":\"object\",\"name\":\"RedoTool\",\"id\":\"p1286\"},{\"type\":\"object\",\"name\":\"RedoTool\",\"id\":\"p1385\"},{\"type\":\"object\",\"name\":\"RedoTool\",\"id\":\"p1433\"}]}},{\"type\":\"object\",\"name\":\"ToolProxy\",\"id\":\"p1460\",\"attributes\":{\"tools\":[{\"type\":\"object\",\"name\":\"ResetTool\",\"id\":\"p1287\"},{\"type\":\"object\",\"name\":\"ResetTool\",\"id\":\"p1386\"},{\"type\":\"object\",\"name\":\"ResetTool\",\"id\":\"p1434\"}]}},{\"type\":\"object\",\"name\":\"SaveTool\",\"id\":\"p1461\"},{\"type\":\"object\",\"name\":\"ToolProxy\",\"id\":\"p1462\",\"attributes\":{\"tools\":[{\"type\":\"object\",\"name\":\"HoverTool\",\"id\":\"p1449\",\"attributes\":{\"renderers\":[{\"type\":\"object\",\"name\":\"GlyphRenderer\",\"id\":\"p1339\",\"attributes\":{\"data_source\":{\"type\":\"object\",\"name\":\"ColumnDataSource\",\"id\":\"p1289\",\"attributes\":{\"selected\":{\"type\":\"object\",\"name\":\"Selection\",\"id\":\"p1290\",\"attributes\":{\"indices\":[],\"line_indices\":[]}},\"selection_policy\":{\"type\":\"object\",\"name\":\"UnionRenderers\",\"id\":\"p1291\"},\"data\":{\"type\":\"map\",\"entries\":[[\"index\",{\"type\":\"ndarray\",\"array\":{\"type\":\"bytes\",\"data\":\"H4sIAAEAAAAC/w3DQ5AcAAAAsK1t27Zt27Zt82rbtm3btm3b7avJTAKBQCCYwQ1hSEMZ2jCGNZzhjWBEIxnZKEY1mtGNYUxjGds4xjWe8U1gQhOZ2CQmNZnJTWFKU5naNKY1nenNYEYzmdksZjWb2c1hTnOZ2zzmNZ/5LWBBC1nYIha1mMUtYUlLWdoylrWc5a1gRStZ2SpWtZrVrWFNa1nbOta1nvVtYEMb2dgmNrWZzW1hS1vZ2ja2tZ3t7WBHO9nZLna1m93tYU972ds+9rWf/R3gQAc52CCHONRhDneEIx3laMc41nGOd4ITneRkpzjVaU53hjOd5WznONd5zneBC13kYpe41GUud4UrXeVq17jWda53gxvd5Ga3uNVtbneHO93lbve4133u94AHPeRhj3jUYx73hCc95WnPeNZznveCF73kZa941Wte94Y3veVt73jXe973gQ995GOf+NRnPveFL33la9/41ne+94Mf/eRnv/jVb373hz/95W//+Nd//gdtYEPI7AMAAA==\"},\"shape\":[251],\"dtype\":\"int32\",\"order\":\"little\"}],[\"Open\",{\"type\":\"ndarray\",\"array\":{\"type\":\"bytes\",\"data\":\"H4sIAAEAAAAC/0VVW0gVURS1CCp7fEQK3UIxiW5pVFTkj3L8SbEHaZlzz2uIyCAq8sfqFkSEH0UgJUEJiXErJOqiBOVHLzXogX1IPiKE8MOwrBBCiRRpZtYaZ372nXP32XvttdfeUz6SXJleqERx5lDq9B0J+0KKOv9HuxS1/jMoxcde71mjhO9edpe2T4nOnIbxyr9K6MbuyfiMEs23veecxnm5Fukyz9Nqcd5zHzmuxTb/ydfiZ6XnobTwvDpzjmrEP6ERN08LP5zO1SIjeDRwHNKIv0qLqbiXcZ1G3j20hRq4W/neq0Wun+ClFuVBnQbvs8STaYAvzXgNWvjlF0viqGP+/cSd4ntrZDf4iYp4r4L3Dmvhv2YOhXks8Gdbcc8/PmBxv92KHq/MxiqL+gut8N2T/Qb5LhNvi8H5G4M8Pwx5471hSx5cxM93kTfmgsfNrqjyG5LnIt5yFzi3uogzatGPaQv/V7QXLfw6LOIlLfyrLXRy0oK3rBCHRj3dtCuI9x/1UGTQhxrDvhrg6iJ/H8if9x7E32TIb+QPnNTBFcbtpJ6WGPBcb8BDyhCPQdxS1hFjHTss8m7k+Rfen6IdNNDTFgscYwY8X2Mdb9mXBZZzwHofGuJi3usG8SXr7WD8pwZ1fKdfF+8nif8JeWmO9Bngvhnyw7mo19SH4rwp6O+Zwvl2hb5750GfHknwckMynkSemATudxL1xhV4Hef/FZxzbw8EvGQwX1pBr030VwpxsxR01CjnbBC/jXslW8HuSgDXUgd1f6oB/p01iHskgTz7HPg/cFD/L4f6dcBvs8O9xP+LHeT96uB+SQJ8v0+Q7wTqGWb+mQTif2O+2cQcT+CZe1GQH0cCX49kvNCy/lEF3b5W6Hsf+Vkd7bUg3gTPC9i39dzHy7hf29g3Tb5PKeihmn57FXXHPqR475aibsN+UU8x7uVZ4pwkvkuMOxD1M9RRwNNz4pym3c15nRft8SBOHXVZS50+5v78w3mNc276qetJzm8Bzw9yfhZxD+Zz391nnoFoPwT9WRvOLfFUcm5bud9tNLfgz5C/aL9AT8R3lnt9jDz95vnn6LuCeYvqC3TmMu8EcTcZ8HeG83+VOC5E+yC0wXyW8Hsw3yJvTrjXLefXgt9S7i9v7wZ6XmyR5xjvtVjxH9/1eRXYBwAA\"},\"shape\":[251],\"dtype\":\"float64\",\"order\":\"little\"}],[\"High\",{\"type\":\"ndarray\",\"array\":{\"type\":\"bytes\",\"data\":\"H4sIAAEAAAAC/0VVW0gVURS1CCp7fEQK3UIxiW5pVFTkj3L8SbEHaZlzz2uIyCAq8sfqFkSEH0UgJUEJiXErJOqiBOVHLzXogX1IPiKE8MOwrBBCiRRpZtYaZ372nXP32XvttdfeUz6SXJleqERx5lDq9B0J+0KKOv9HuxS1/jMoxcde71mjhO9edpe2T4nOnIbxyr9K6MbuyfiMEs23veecxnm5Fukyz9Nqcd5zHzmuxTb/ydfiZ6XnobTwvDpzjmrEP6ERN08LP5zO1SIjeDRwHNKIv0qLqbiXcZ1G3j20hRq4W/neq0Wun+ClFuVBnQbvs8STaYAvzXgNWvjlF0viqGP+/cSd4ntrZDf4iYp4r4L3Dmvhv2YOhXks8Gdbcc8/PmBxv92KHq/MxiqL+gut8N2T/Qb5LhNvi8H5G4M8Pwx5471hSx5cxM93kTfmgsfNrqjyG5LnIt5yFzi3uogzatGPaQv/V7QXLfw6LOIlLfyrLXRy0oK3rBCHRj3dtCuI9x/1UGTQhxrDvhrg6iJ/H8if9x7E32TIb+QPnNTBFcbtpJ6WGPBcb8BDyhCPQdxS1hFjHTss8m7k+Rfen6IdNNDTFgscYwY8X2Mdb9mXBZZzwHofGuJi3usG8SXr7WD8pwZ1fKdfF+8nif8JeWmO9Bngvhnyw7mo19SH4rwp6O+Zwvl2hb5750GfHknwckMynkSemATudxL1xhV4Hef/FZxzbw8EvGQwX1pBr030VwpxsxR01CjnbBC/jXslW8HuSgDXUgd1f6oB/p01iHskgTz7HPg/cFD/L4f6dcBvs8O9xP+LHeT96uB+SQJ8v0+Q7wTqGWb+mQTif2O+2cQcT+CZe1GQH0cCX49kvNCy/lEF3b5W6Hsf+Vkd7bUg3gTPC9i39dzHy7hf29g3Tb5PKeihmn57FXXHPqR475aibsN+UU8x7uVZ4pwkvkuMOxD1M9RRwNNz4pym3c15nRft8SBOHXVZS50+5v78w3mNc276qetJzm8Bzw9yfhZxD+Zz391nnoFoPwT9WRvOLfFUcm5bud9tNLfgz5C/aL9AT8R3lnt9jDz95vnn6LuCeYvqC3TmMu8EcTcZ8HeG83+VOC5E+yC0wXyW8Hsw3yJvTrjXLefXgt9S7i9v7wZ6XmyR5xjvtVjxH9/1eRXYBwAA\"},\"shape\":[251],\"dtype\":\"float64\",\"order\":\"little\"}],[\"Low\",{\"type\":\"ndarray\",\"array\":{\"type\":\"bytes\",\"data\":\"H4sIAAEAAAAC/0VVW0gVURS1CCp7fEQK3UIxiW5pVFTkj3L8SbEHaZlzz2uIyCAq8sfqFkSEH0UgJUEJiXErJOqiBOVHLzXogX1IPiKE8MOwrBBCiRRpZtYaZ372nXP32XvttdfeUz6SXJleqERx5lDq9B0J+0KKOv9HuxS1/jMoxcde71mjhO9edpe2T4nOnIbxyr9K6MbuyfiMEs23veecxnm5Fukyz9Nqcd5zHzmuxTb/ydfiZ6XnobTwvDpzjmrEP6ERN08LP5zO1SIjeDRwHNKIv0qLqbiXcZ1G3j20hRq4W/neq0Wun+ClFuVBnQbvs8STaYAvzXgNWvjlF0viqGP+/cSd4ntrZDf4iYp4r4L3Dmvhv2YOhXks8Gdbcc8/PmBxv92KHq/MxiqL+gut8N2T/Qb5LhNvi8H5G4M8Pwx5471hSx5cxM93kTfmgsfNrqjyG5LnIt5yFzi3uogzatGPaQv/V7QXLfw6LOIlLfyrLXRy0oK3rBCHRj3dtCuI9x/1UGTQhxrDvhrg6iJ/H8if9x7E32TIb+QPnNTBFcbtpJ6WGPBcb8BDyhCPQdxS1hFjHTss8m7k+Rfen6IdNNDTFgscYwY8X2Mdb9mXBZZzwHofGuJi3usG8SXr7WD8pwZ1fKdfF+8nif8JeWmO9Bngvhnyw7mo19SH4rwp6O+Zwvl2hb5750GfHknwckMynkSemATudxL1xhV4Hef/FZxzbw8EvGQwX1pBr030VwpxsxR01CjnbBC/jXslW8HuSgDXUgd1f6oB/p01iHskgTz7HPg/cFD/L4f6dcBvs8O9xP+LHeT96uB+SQJ8v0+Q7wTqGWb+mQTif2O+2cQcT+CZe1GQH0cCX49kvNCy/lEF3b5W6Hsf+Vkd7bUg3gTPC9i39dzHy7hf29g3Tb5PKeihmn57FXXHPqR475aibsN+UU8x7uVZ4pwkvkuMOxD1M9RRwNNz4pym3c15nRft8SBOHXVZS50+5v78w3mNc276qetJzm8Bzw9yfhZxD+Zz391nnoFoPwT9WRvOLfFUcm5bud9tNLfgz5C/aL9AT8R3lnt9jDz95vnn6LuCeYvqC3TmMu8EcTcZ8HeG83+VOC5E+yC0wXyW8Hsw3yJvTrjXLefXgt9S7i9v7wZ6XmyR5xjvtVjxH9/1eRXYBwAA\"},\"shape\":[251],\"dtype\":\"float64\",\"order\":\"little\"}],[\"Close\",{\"type\":\"ndarray\",\"array\":{\"type\":\"bytes\",\"data\":\"H4sIAAEAAAAC/0VVW0gVURS1CCp7fEQK3UIxiW5pVFTkj3L8SbEHaZlzz2uIyCAq8sfqFkSEH0UgJUEJiXErJOqiBOVHLzXogX1IPiKE8MOwrBBCiRRpZtYaZ372nXP32XvttdfeUz6SXJleqERx5lDq9B0J+0KKOv9HuxS1/jMoxcde71mjhO9edpe2T4nOnIbxyr9K6MbuyfiMEs23veecxnm5Fukyz9Nqcd5zHzmuxTb/ydfiZ6XnobTwvDpzjmrEP6ERN08LP5zO1SIjeDRwHNKIv0qLqbiXcZ1G3j20hRq4W/neq0Wun+ClFuVBnQbvs8STaYAvzXgNWvjlF0viqGP+/cSd4ntrZDf4iYp4r4L3Dmvhv2YOhXks8Gdbcc8/PmBxv92KHq/MxiqL+gut8N2T/Qb5LhNvi8H5G4M8Pwx5471hSx5cxM93kTfmgsfNrqjyG5LnIt5yFzi3uogzatGPaQv/V7QXLfw6LOIlLfyrLXRy0oK3rBCHRj3dtCuI9x/1UGTQhxrDvhrg6iJ/H8if9x7E32TIb+QPnNTBFcbtpJ6WGPBcb8BDyhCPQdxS1hFjHTss8m7k+Rfen6IdNNDTFgscYwY8X2Mdb9mXBZZzwHofGuJi3usG8SXr7WD8pwZ1fKdfF+8nif8JeWmO9Bngvhnyw7mo19SH4rwp6O+Zwvl2hb5750GfHknwckMynkSemATudxL1xhV4Hef/FZxzbw8EvGQwX1pBr030VwpxsxR01CjnbBC/jXslW8HuSgDXUgd1f6oB/p01iHskgTz7HPg/cFD/L4f6dcBvs8O9xP+LHeT96uB+SQJ8v0+Q7wTqGWb+mQTif2O+2cQcT+CZe1GQH0cCX49kvNCy/lEF3b5W6Hsf+Vkd7bUg3gTPC9i39dzHy7hf29g3Tb5PKeihmn57FXXHPqR475aibsN+UU8x7uVZ4pwkvkuMOxD1M9RRwNNz4pym3c15nRft8SBOHXVZS50+5v78w3mNc276qetJzm8Bzw9yfhZxD+Zz391nnoFoPwT9WRvOLfFUcm5bud9tNLfgz5C/aL9AT8R3lnt9jDz95vnn6LuCeYvqC3TmMu8EcTcZ8HeG83+VOC5E+yC0wXyW8Hsw3yJvTrjXLefXgt9S7i9v7wZ6XmyR5xjvtVjxH9/1eRXYBwAA\"},\"shape\":[251],\"dtype\":\"float64\",\"order\":\"little\"}],[\"Volume\",{\"type\":\"ndarray\",\"array\":{\"type\":\"bytes\",\"data\":\"H4sIAAEAAAAC/2NgAIEf9Qyj9Cg9So/So/QoPUoPeRoA1F0YOdgHAAA=\"},\"shape\":[251],\"dtype\":\"float64\",\"order\":\"little\"}],[\"datetime\",{\"type\":\"ndarray\",\"array\":{\"type\":\"bytes\",\"data\":\"H4sIAAEAAAAC/yXLd1TQVRyG8ZvhiJyYpoKoJAiRDAEXCBcwlmAoiEEsJwISgQwBxSs4CBSVUEhyoBQRJtngYDZuOErDNHKP1CRMC4PDKQ2Pref31+c89/teIeShB+Y5PkKIZ4Ms/lcGeI+mD76Bemg7qpypltxvFKMaXDCGzjqH4prNWPbeOahqvzX6UvM42nOYFfuaBBSmn6JO7f8cXf3keLpPBKrl76Js7UExNcSaTpxpQ5/Zgdr1Lqqd7hO4i1JUzutt6YqLKB7b2bFfuArVN98Z/dfx5+m4EfbsjyehsP8c9dZBL9DNfSbSEyJRba5H2f0YRWSoA13s70h3vol63m+ojng6cR+3DdXcIme66QoKy4mT2BeuQXX3e6NHnXShlbkr+/YUFMEa9SEzN/r2U5PpgGhUBw+iyA2bwr/6oKn0kF2os35Hdc17GnefclQrSqbTl6+j8HJyZ19TgMr0vNHuLR50teUM9n3TUKQcRd06zJM2GeBFJ8ahdDORvFdFoGwJ8aYn7UX1eKYP74sqUJWX+tI9N1HEu8zk3f4S6ugzL9LN4/zY2WagKD2BunuEPxYvDGDX+THKiL6B7D6LRNkRGkSH7Ufd9Acqy4BZ3NftRPXJtmDavA3F2skh7NuLUAVfNXp162z69viX2Admo2g4ifoZi1CsXzKH3ZAmlNmmc9ldj0Y5MDyMzngH9eWHqLxmhXN/exeqC+XzaI87KPZNi2DfdxOqlB+N3n1+Pm1i+zL7pFwUZ1tQu42JpBOGR9Ety1BNOoKycsAr3P+OQ+k4P5reXoe65xGq+Nkx3E/sRfWgIpaOuYfiqEcce9stqEpvGf3lpXja2n4B+5LVKLrOoI6wWkgXjVxEdySjCvsC5eHBizE0agm7xgOozf9BtXbOUu539qMaUZVA53egaPNaxj6wDFVDm9E3rybSfg5J7A8oFGY/oM62TqbrLJbTA1NRZXyF8srQFO5yKcq0mFfpiw2oPXqlst8XjrJfreGeztfY9fZNY5e0HdXZO0Y/cSOdTnBewf50IQqXC6grbTPoU2Myacd0VNuPoXw0PIv7gkSUZfHZ9MMPUcf0Xsm73XuooqpzaN2NwsYvl11JJaque0Zb/ZRHF7muYn9/A4rwy4a/WuWzC81E1fg1SotRa7gXLEf50SJFj2xEnd9vLfu2KJRB7xudV1NA3/oThX9gIfsDVajM7hvt+/M6um7KevaDilFkXkN9xWED3d9mI522EtXFUyhnjC7ivj8V5bmlr9PTD6Pe83Qx+96xKJM/MPqt2hK6Vw+KZcGb2J/ejcqly+jFv2ymT00vZe+0GcWOG6gfOW/Bsryt7B6eRhk7dhu7Y+n/+S/hw3Ha2AcAAA==\"},\"shape\":[251],\"dtype\":\"float64\",\"order\":\"little\"}],[\"inc\",{\"type\":\"ndarray\",\"array\":[\"1\",\"1\",\"1\",\"1\",\"1\",\"1\",\"1\",\"1\",\"1\",\"1\",\"1\",\"1\",\"1\",\"1\",\"1\",\"1\",\"1\",\"1\",\"1\",\"1\",\"1\",\"1\",\"1\",\"1\",\"1\",\"1\",\"1\",\"1\",\"1\",\"1\",\"1\",\"1\",\"1\",\"1\",\"1\",\"1\",\"1\",\"1\",\"1\",\"1\",\"1\",\"1\",\"1\",\"1\",\"1\",\"1\",\"1\",\"1\",\"1\",\"1\",\"1\",\"1\",\"1\",\"1\",\"1\",\"1\",\"1\",\"1\",\"1\",\"1\",\"1\",\"1\",\"1\",\"1\",\"1\",\"1\",\"1\",\"1\",\"1\",\"1\",\"1\",\"1\",\"1\",\"1\",\"1\",\"1\",\"1\",\"1\",\"1\",\"1\",\"1\",\"1\",\"1\",\"1\",\"1\",\"1\",\"1\",\"1\",\"1\",\"1\",\"1\",\"1\",\"1\",\"1\",\"1\",\"1\",\"1\",\"1\",\"1\",\"1\",\"1\",\"1\",\"1\",\"1\",\"1\",\"1\",\"1\",\"1\",\"1\",\"1\",\"1\",\"1\",\"1\",\"1\",\"1\",\"1\",\"1\",\"1\",\"1\",\"1\",\"1\",\"1\",\"1\",\"1\",\"1\",\"1\",\"1\",\"1\",\"1\",\"1\",\"1\",\"1\",\"1\",\"1\",\"1\",\"1\",\"1\",\"1\",\"1\",\"1\",\"1\",\"1\",\"1\",\"1\",\"1\",\"1\",\"1\",\"1\",\"1\",\"1\",\"1\",\"1\",\"1\",\"1\",\"1\",\"1\",\"1\",\"1\",\"1\",\"1\",\"1\",\"1\",\"1\",\"1\",\"1\",\"1\",\"1\",\"1\",\"1\",\"1\",\"1\",\"1\",\"1\",\"1\",\"1\",\"1\",\"1\",\"1\",\"1\",\"1\",\"1\",\"1\",\"1\",\"1\",\"1\",\"1\",\"1\",\"1\",\"1\",\"1\",\"1\",\"1\",\"1\",\"1\",\"1\",\"1\",\"1\",\"1\",\"1\",\"1\",\"1\",\"1\",\"1\",\"1\",\"1\",\"1\",\"1\",\"1\",\"1\",\"1\",\"1\",\"1\",\"1\",\"1\",\"1\",\"1\",\"1\",\"1\",\"1\",\"1\",\"1\",\"1\",\"1\",\"1\",\"1\",\"1\",\"1\",\"1\",\"1\",\"1\",\"1\",\"1\",\"1\",\"1\",\"1\",\"1\",\"1\",\"1\",\"1\",\"1\",\"1\",\"1\",\"1\",\"1\",\"1\",\"1\",\"1\",\"1\",\"1\",\"1\",\"1\"],\"shape\":[251],\"dtype\":\"object\",\"order\":\"little\"}],[\"SMA(C,50)_0_0\",{\"type\":\"ndarray\",\"array\":{\"type\":\"bytes\",\"data\":\"H4sIAAEAAAAC/+1U+VfPWRjOMu1NlrIvpSRTKVvWpqepQRKVCed+7rWUaBKJkkFpVJZUY4m0EBpLByFRTYyGmWjQtJ0skZBUikYGUWPe69s58yfML3N/ec7nc+993/s+7/M+ampyvduo9j/+pxipN+t0/HKO9weXnmtYz5GwokdEfjRHaMYFr42JHP3yFSOHdI7sErWqzrkcY25NmllSyPFig/3Y+fc4TKavj7BuJKxsDfNr4+BGDn966wqU7uR/O/YT0As8ub3SXGDJ25pFh2wFJFQ4CfzhdKf5tYfA55TeZ6FAw55M3UB/gYmdXCP1QgTyGw9MtowUWPyCffXlDgFTmSdFwMpxwPPHRwWe1NOFswIG9gX3z2cJdLr4WQ+DbIH3+vXZp/MEfIf4r113SWBg4VP7Hy8LaLVSgVcEFuybYRhDGNAcVfjNLwKWffaUa+ULlGvRDcLM/S+PFVwVUNsZ9mHidYFzDavPG94QeJoxtCaiSID1JiYIjV77zwklDLTTvp1WLOA84qNxe4XAZMvypNoHApXR7T5va6iurmO62zYKpJnktm0hnHFUe8rQJgH15l7T3Og7Ljiwv16dwK4mIrSW6smY+mgd3etuO/mSB33X2FIHaD/lMAV49u/5cL+LQbsJl8hF575I71nsVE11rK03G3lHYEqXtTqm9K6Bx+qmjbhGPE56OCuWeIiTiXME1r8647YsU6DJOm+Y/gmBdfOOj72VRrweSf7VaJ+Aq3xnrMDQ4M5JmhEdfKwVqO/ok6Shyot43kkP9xS4rmGX7DlVwGOvcVywg1DpZ4JANjY9vmYjcOjrCy3tpsTjq8GlAb0F0seSkLQEtGWj3nNVnc0c3uL+lC51HF2SNPsfqOIIsTIe/Lqc9PY8f4LJ7xxTVrXq118mPXptvGtHevzEYxYHnfKfc4qjiY5NT+PYPL7it+XxhNTl45EcpA77giAOv6rA6LjFHOi56GqZC0faLlKcJYdmUV/3ezocC58WD6msV0BsJawoVbCGyu9/QUF1SvcjlxIVfNxBPIQrkLL29VVwcNuZR/WuChpl3tEKbspCDenerEG9/NqZSie1DA4ycBmDd7d5E7LyGd4GU8RTDEepPR8TGQ7R+K2OYtiwaJSnzSqGc7JB3gxzUk+cujOX4f75yA3FLgwpnvQDDHFX/jLn42jfhjpvw+DaEjc7yJLBRArEiiF1/vAb3awZWqjNSYQzvSjxGAZnt7Y+q+le12cx5k12DC+JvjaKF++43f+ZI8NsKYBpTNVXV4ZaKaCZDOO2UQVuhNIQ3BnMRmqeHODBYP3AVP17T4bd6ZvcnQlpmrd6EyaPPpw1bh59r6JInPa3RLGyxQz8B3q4P4MMV0x13pNzEsRAr7rdYxPDKNnweIaCn3Ji1Y8z5Dnrdra43FHfTYYyC5++j6sZkvL27tB/xfBA8tJFwZtcikS8Dw+LyV02XEHIz6n9rO3ovzpNvKcC4UIKXaZghhRqqAIpz7uxikq3qQoCFmgU9T1L/c0k4vMVhA4cv9SpREEniy297lYpqnlpUJAzKOq5+ztF5TcaHGeJ3hADDl1T87AYY44CF2LKhiNOGul4DnqNVis4SquqdXY7c5XvuHNUpK20057LYfDhxotChSPC3Xl/+HwOmfbbpR33V3LMHkYK+45jf7jZlc0bOQZT+pzNpHfZ51gOcmWt6AQOOcY6RzgmrSzaWprBQS5RbZXDIcOaXeFwItu0pflJDiEnKeHwkX5wm6v87QlHnZ/Fm4QmjhLpyzSP1/cRwRoCa2QgQ4GHNDY1QwRa2slhRgjEVvqqBdB8f9IV+XlSIi13gX8A8SYDyNgHAAA=\"},\"shape\":[251],\"dtype\":\"float64\",\"order\":\"little\"}],[\"SMA(C,200)_1_0\",{\"type\":\"ndarray\",\"array\":{\"type\":\"bytes\",\"data\":\"H4sIAAEAAAAC/2NgAIEf9Qyj9Cg9So/So/QoTQRdUbVUx9kqxuEh9+SVTdYxDiK/T787aRvj8EB3woIf9jEOMf2Hvmo4xTg8Xaf6pNklxkFi+0WGe24xDtYF5zouecQ43Igv85fzinEIq123Lck7xuHl9vXMz31iHJa98ND77xvjcN7lxocvfjEOB6IVHD/6xzhErDA9ax0Q43CXibNLPhAo/maejU5QjEPr68AdcsExDjrtYjfPAWnxm+e+B4fGOEiBNIbHOLAunmTFGBnjIHh8147eqBiHY97mnY4xMQ6b5r5ffiw2xkET5NC4GAeW5z0ab+NjHFQ06np2AukjTmsz7wHpMqZZHNIJCH4Yn+6muUBala1xqjOQPvPu5GEnIA10rVckUF3gLemaxKQYhxlaElOvJMc4gJztlwp0v+WWE2VpMQ4nZuyeNiEdaK/VpNP1GTEORV19Tz5lxjh8uX29sTgnxiEkSH1BZ16Mw36Q/wpiHLRA6oB0akdy7B0gvfZXTO5RIL0CFE75MQ5CzQdOLQTSq85fDXsDpIGhk/wOKA8AIsTgNNgHAAA=\"},\"shape\":[251],\"dtype\":\"float64\",\"order\":\"little\"}],[\"entry size_2_0\",{\"type\":\"ndarray\",\"array\":{\"type\":\"bytes\",\"data\":\"H4sIAAEAAAAC/2NgAIEf9Qyj9Cg9So/So/QoPUrXp4HBO/uh6n4As/SklNgHAAA=\"},\"shape\":[251],\"dtype\":\"float64\",\"order\":\"little\"}],[\"ohlc_low\",{\"type\":\"ndarray\",\"array\":{\"type\":\"bytes\",\"data\":\"H4sIAAEAAAAC/0VVe1zOVxiPWU1qaPSZ3FeopWXTipF9rT4USW8tve/5nfO6JCxtvJg291EuqUgMxYrGZqyVhprLmvmY5jKxT+65k5QZG0Nsz3nPsX7/PL/nnOd8n/vzhF2e0abQyUCw86mCyeuZonsZbPKniGGc/KoYjh6hr4MBKT54g6aVBko7pd42/WOAL9v/t3eDgZy19H3K1XkYR+FgkrRyzCTxy4kcveXnyVFnIgmDg6RKOyVwhZ/EFW5XDgnHO3M42D+u7BjBFX47jgfepLEbV3ojNO3Jld35mj/C0Vkq2McRZvdTKP6ZtsdZKPsKNV4qh3Q/mGk7bFp/lLa7QPP5jdRHKuqj3w3R70ZzSNb51HM9VmW/uxVfyuMYq3pfZMXP5OayaCtSXId/t/JDjsf540tqZ3Ks/shtQXkax+zCnWPmruXwKDe6DNzCsavSobppGUfA0X6RlRUcd2a9+7b1LIfnkJkL/OuInns0J7GB/O8y8M94F4ETWfxZiIeAq23b0nPeAuMeXhu9IVBAkqpQgd9CT9/9K1rgZVKfMEqgdtV2F1uSwDtNhqW4JguU133Rv2eKwNg77L0BywW8pJ51An4hHW5f2Sxw9RY9KBYqf+e58me/pm5CxeWxroc+QuUhTui8CkTLi590/H7V8SPeXod+Qse3Ud5eN090HSzRuKW6nloIFefpQsW5QGh7yK9mAa0D6wQKPMsaFhGN2Ow8qFu9gONd97Ao4u15Oiuwop4CekPjVAm0Duy/N5r4a4GUgRqh6ipd+/GLwLzEPdOya7T8De3vN0LbJZQ/WRqfaX+LtfxOOr9XFDVxu0C9/+4eLbfq9zO0/SU6LjmN9Wnvl1XP46P7YjqHhJ9xwND9Zqj622Wo8wBD1T2d2/O0jam4rGAajyk9HkzZfYipuHsbKq639f0Q3ec0B+x95qD1FRqqP7K1vGEo3LaG6uNl7H9qx/9azxV3Q9FBFmWXi1n5fTJO2R8Up3DjLUpPpFnJbzYr/+vNSs91s4pvjlnPJX0fbFZ6L5rV+wEWVTcVFl1nFuXPea2/waLzqPU9s6BEJiieYUTe1m9Px+m5CIZ1sXRANFPiB9F9r9e3vNKLYdj9zJhpPRk8Mz+2tfdjyLP6HG7lz3Cf0pxDNHJMK3PfAIbwqIZXp9K7ZjfTveuDGf6gMmwgvJUhS5NuhjDEXN2UeyCMYUIWFeQwhhsdv6oJi2QIWjJw1PUoonIgmBi6v/nStg7RDP4XvBw/i2XI3jLfFE6UunlxPNHc3hu/DzITP4WQON0vSmUnxzLldxKDhDs+heFs2tOEh9MYyKpTbvMZ3kr269p5JcPBH0ozHClfu8Ndmvr+qP07wnDSN6HdlUsMObs/X97yHsOFHSmzjr9g4EEZIVHefeakl030MZC8L8/DP5jOHUeuiYg1IIYecgqeaCCCSO5sqh8ab2cyDEg2Ns/ApJFOx9oVG/h3OwW+3MDsjn3Gh9KeaeK7yP1MtaH6pbZx7zTZ86JbGyeOYgpvchsOFy/vOem0Pw4OpUj14siUg5TmM1nT/BE4TlRfapEdzjHpbmrF+yaOKllncdQ/Tw7fqaB9tMAUvn4e7Sup9oPx+v1kjpge+UuKaK+tn9d9/8K5eq8s5Ogq85xB+6C6afO01RyyjVts4ug3+djiE7RXbO1dL/nRfJKw3WkuhtLYDKQ5l5u8bqNnJUdCv4vDM2hPlNRO3dH2KkdNou+D1fUclXIu09w8tIYCTHtrugRqK3DRlpZ57TWB+09//+TWGwIZ5yY4TOorVF3RPLfXt0ngP6dd2qXYBwAA\"},\"shape\":[251],\"dtype\":\"float64\",\"order\":\"little\"}],[\"ohlc_high\",{\"type\":\"ndarray\",\"array\":{\"type\":\"bytes\",\"data\":\"H4sIAAEAAAAC/0VVe1CVRRQHrQTMrBRMSBCRIkXDHBrRiMNMAYmkkDDMt3v25hOGQexaKBFGpTQjKaZmCSoDIYpNECmIThIk5qPAQUW0IJIC46oYk6IpIu13zyH2n3N373n8zuv3RbSnjy0bISDY5WLRW7sNktUGWM0f5QYsN0+zAQ31+jwtwFQPL2R5VsBhz6xr0f8KkJuP9frdF5CXq8+7kt4jJJSFa00l4T2t3p4kYaZ5fCRcj9YaQoLWOuy5TJL/ZEl+vSWY7qSXBAf7kYQjTpL/8RJu++mIvpLizmPpLwl3Ad/rJXiZAb6XEGHPE+n+gPG4IOErY39ZEsz0gw3GYeX4Cxh3Ed8LhuRzZqBZbDeX7RZJMK8uFwfjKMLvpmCP+fyGIvtyBXU6zc0xivL3V2CqpzchxVvHePOR3o8jxbmKXDe2a1VcBwv597FQXHcL1fF5C8SYDfG2kL/HLIRzhoX8dCrqR58i/RqWmYr0vlXkL12RfqyiOVmhqG6uGnfIidbKCgTHow8/ObYK4d5oW9U33yEkTkpOS69GmHC6M2RPDYLz3YKEg8cQLDvmuW7UcmVP1umFPyD4P7W9ybkWoclZW2h5YPff+07UIThseb9v9imEg1ffrnT9GaGzzLdj3RkEY1zVWQctJ95Kjlurpb3vjQivTR/w7m9GeMm/Ke/Kbwgt2f3L7nQg5RHKebhzHoGK6jlFQU6q1WNUF1KfbnO9O9hvgKI+6/93felz5P5f+L++Xe8hxXuAMGX/mMZXLus80mzPzLiEEDY8beRkjWvCvq6I6ScRls75ff4mXYecR3rcIg4jzbON8ek6pMeXBDYUIfxZvPP4xB0IUXtdwnw3IfimDstzWsf1SEOwbT/wqDUZwSxD22Jd5y3dGSGxCKdGBO+MDUeI+dw7JzUUYW3ZocWZQQhV8NEfJwMQCl89dLN/sq7jP17nVo5D2B/YMOd1Zz1XZqPuSeh40b1W9EhYgq1hw7skDM9z8shvk7BmmrfXrSYJN67VBvn8JCFs1d3RthoJVYszfwk+IsFMZ0GFBK2VHFcqoVurzdX78vGs5h9XfKal7nLJegl6OkJOvCMhqc2anbNUAoxZVHc+UkLR1tmOUXp/nc6Mj/51pIQ3OxsntdgE6Gp9kXJOwGqdvschAZd3PVFcnStg4FNdhw8EWL/+pCUxUUDBhvJ2W5SA62bcmQLqzURdtd18T7ekfoPm5IoBoabj8wYseTw+qKLWgDup2mOpAXt1ewZyDShM0JOWZUDGohdiA1YZtJ9bmQdXG9BauT6jMdKgeYg3aE/rDO7foBS8V4L2vFbQ/mm+tO+ZxxCv2eerh9+nCuKNZ5mPRzG/lgjacymIr1IE7V0s6+m87XP8lWCeYrsdgudWUBwH5il35uUHjLOX8X3Ifi+wn22Mp4r5/Sjj7GMZyXznOMTjdj9W5uvlkvCVMn/e5O+CH+9NE/NuL38PpvL7QiQ9J+ZBH+a7Yo5zgf1OQ+rPpMG9ZTzRvLcFzO8KCf9Gvqcg1w+Zv5H8dTO+NOb1Lq7TDX6/NPRdIT4eys/OlxaO28O4tyHVbw0S72Qzjgy+G0PSzssv8/dgmKK4noO8ruh/pai+ocxfmnft/OGsKE4C2+Ur+A+K8wPT2AcAAA==\"},\"shape\":[251],\"dtype\":\"float64\",\"order\":\"little\"}]]}}},\"view\":{\"type\":\"object\",\"name\":\"CDSView\",\"id\":\"p1340\",\"attributes\":{\"filter\":{\"type\":\"object\",\"name\":\"AllIndices\",\"id\":\"p1341\"}}},\"glyph\":{\"type\":\"object\",\"name\":\"VBar\",\"id\":\"p1336\",\"attributes\":{\"x\":{\"type\":\"field\",\"field\":\"index\"},\"width\":{\"type\":\"value\",\"value\":0.8},\"bottom\":{\"type\":\"field\",\"field\":\"Close\"},\"top\":{\"type\":\"field\",\"field\":\"Open\"},\"fill_color\":{\"type\":\"field\",\"field\":\"inc\",\"transform\":{\"type\":\"object\",\"name\":\"CategoricalColorMapper\",\"id\":\"p1295\",\"attributes\":{\"palette\":[\"tomato\",\"lime\"],\"factors\":[\"0\",\"1\"]}}}}},\"nonselection_glyph\":{\"type\":\"object\",\"name\":\"VBar\",\"id\":\"p1337\",\"attributes\":{\"x\":{\"type\":\"field\",\"field\":\"index\"},\"width\":{\"type\":\"value\",\"value\":0.8},\"bottom\":{\"type\":\"field\",\"field\":\"Close\"},\"top\":{\"type\":\"field\",\"field\":\"Open\"},\"line_alpha\":{\"type\":\"value\",\"value\":0.1},\"fill_color\":{\"type\":\"field\",\"field\":\"inc\",\"transform\":{\"id\":\"p1295\"}},\"fill_alpha\":{\"type\":\"value\",\"value\":0.1},\"hatch_alpha\":{\"type\":\"value\",\"value\":0.1}}},\"muted_glyph\":{\"type\":\"object\",\"name\":\"VBar\",\"id\":\"p1338\",\"attributes\":{\"x\":{\"type\":\"field\",\"field\":\"index\"},\"width\":{\"type\":\"value\",\"value\":0.8},\"bottom\":{\"type\":\"field\",\"field\":\"Close\"},\"top\":{\"type\":\"field\",\"field\":\"Open\"},\"line_alpha\":{\"type\":\"value\",\"value\":0.2},\"fill_color\":{\"type\":\"field\",\"field\":\"inc\",\"transform\":{\"id\":\"p1295\"}},\"fill_alpha\":{\"type\":\"value\",\"value\":0.2},\"hatch_alpha\":{\"type\":\"value\",\"value\":0.2}}}}}],\"tooltips\":[[\"Date\",\"@datetime{%c}\"],[\"x, y\",\"$index\\u00a0\\u00a0\\u00a0\\u00a0$y{0,0.0[0000]}\"],[\"OHLC\",\"@Open{0,0.0[0000]}\\u00a0\\u00a0\\u00a0\\u00a0@High{0,0.0[0000]}\\u00a0\\u00a0\\u00a0\\u00a0@Low{0,0.0[0000]}\\u00a0\\u00a0\\u00a0\\u00a0@Close{0,0.0[0000]}\"],[\"Volume\",\"@Volume{0,0}\"],[\"SMA(C,50)\",\"@{SMA(C,50)_0_0}{0,0.0[0000]}\"]],\"formatters\":{\"type\":\"map\",\"entries\":[[\"@datetime\",\"datetime\"]]},\"sort_by\":null,\"mode\":\"vline\",\"point_policy\":\"follow_mouse\"}}]}},{\"type\":\"object\",\"name\":\"ToolProxy\",\"id\":\"p1463\",\"attributes\":{\"tools\":[{\"type\":\"object\",\"name\":\"HoverTool\",\"id\":\"p1399\",\"attributes\":{\"renderers\":[{\"type\":\"object\",\"name\":\"GlyphRenderer\",\"id\":\"p1394\",\"attributes\":{\"data_source\":{\"id\":\"p1289\"},\"view\":{\"type\":\"object\",\"name\":\"CDSView\",\"id\":\"p1395\",\"attributes\":{\"filter\":{\"type\":\"object\",\"name\":\"AllIndices\",\"id\":\"p1396\"}}},\"glyph\":{\"type\":\"object\",\"name\":\"Line\",\"id\":\"p1391\",\"attributes\":{\"x\":{\"type\":\"field\",\"field\":\"index\"},\"y\":{\"type\":\"field\",\"field\":\"SMA(C,200)_1_0\"},\"line_color\":\"#1f77b4\",\"line_width\":1.3}},\"nonselection_glyph\":{\"type\":\"object\",\"name\":\"Line\",\"id\":\"p1392\",\"attributes\":{\"x\":{\"type\":\"field\",\"field\":\"index\"},\"y\":{\"type\":\"field\",\"field\":\"SMA(C,200)_1_0\"},\"line_color\":\"#1f77b4\",\"line_alpha\":0.1,\"line_width\":1.3}},\"muted_glyph\":{\"type\":\"object\",\"name\":\"Line\",\"id\":\"p1393\",\"attributes\":{\"x\":{\"type\":\"field\",\"field\":\"index\"},\"y\":{\"type\":\"field\",\"field\":\"SMA(C,200)_1_0\"},\"line_color\":\"#1f77b4\",\"line_alpha\":0.2,\"line_width\":1.3}}}}],\"tooltips\":[[\"Date\",\"@datetime{%c}\"],[\"SMA(C,200)\",\"@{SMA(C,200)_1_0}{0,0.0[0000]}\"]],\"formatters\":{\"type\":\"map\",\"entries\":[[\"@datetime\",\"datetime\"]]},\"sort_by\":null,\"mode\":\"vline\",\"point_policy\":\"follow_mouse\"}}]}},{\"type\":\"object\",\"name\":\"ToolProxy\",\"id\":\"p1464\",\"attributes\":{\"tools\":[{\"type\":\"object\",\"name\":\"HoverTool\",\"id\":\"p1447\",\"attributes\":{\"renderers\":[{\"type\":\"object\",\"name\":\"GlyphRenderer\",\"id\":\"p1442\",\"attributes\":{\"data_source\":{\"id\":\"p1289\"},\"view\":{\"type\":\"object\",\"name\":\"CDSView\",\"id\":\"p1443\",\"attributes\":{\"filter\":{\"type\":\"object\",\"name\":\"AllIndices\",\"id\":\"p1444\"}}},\"glyph\":{\"type\":\"object\",\"name\":\"Circle\",\"id\":\"p1439\",\"attributes\":{\"x\":{\"type\":\"field\",\"field\":\"index\"},\"y\":{\"type\":\"field\",\"field\":\"entry size_2_0\"},\"radius\":{\"type\":\"value\",\"value\":0.24},\"fill_color\":{\"type\":\"value\",\"value\":\"black\"}}},\"nonselection_glyph\":{\"type\":\"object\",\"name\":\"Circle\",\"id\":\"p1440\",\"attributes\":{\"x\":{\"type\":\"field\",\"field\":\"index\"},\"y\":{\"type\":\"field\",\"field\":\"entry size_2_0\"},\"radius\":{\"type\":\"value\",\"value\":0.24},\"line_alpha\":{\"type\":\"value\",\"value\":0.1},\"fill_color\":{\"type\":\"value\",\"value\":\"black\"},\"fill_alpha\":{\"type\":\"value\",\"value\":0.1},\"hatch_alpha\":{\"type\":\"value\",\"value\":0.1}}},\"muted_glyph\":{\"type\":\"object\",\"name\":\"Circle\",\"id\":\"p1441\",\"attributes\":{\"x\":{\"type\":\"field\",\"field\":\"index\"},\"y\":{\"type\":\"field\",\"field\":\"entry size_2_0\"},\"radius\":{\"type\":\"value\",\"value\":0.24},\"line_alpha\":{\"type\":\"value\",\"value\":0.2},\"fill_color\":{\"type\":\"value\",\"value\":\"black\"},\"fill_alpha\":{\"type\":\"value\",\"value\":0.2},\"hatch_alpha\":{\"type\":\"value\",\"value\":0.2}}}}}],\"tooltips\":[[\"Date\",\"@datetime{%c}\"],[\"entry size\",\"@{entry size_2_0}{0,0.0[0000]}\"]],\"formatters\":{\"type\":\"map\",\"entries\":[[\"@datetime\",\"datetime\"]]},\"sort_by\":null,\"mode\":\"vline\",\"point_policy\":\"follow_mouse\"}}]}},{\"type\":\"object\",\"name\":\"ToolProxy\",\"id\":\"p1465\",\"attributes\":{\"tools\":[{\"type\":\"object\",\"name\":\"CrosshairTool\",\"id\":\"p1453\",\"attributes\":{\"overlay\":[{\"type\":\"object\",\"name\":\"Span\",\"id\":\"p1451\",\"attributes\":{\"line_dash\":[2,4]}},{\"type\":\"object\",\"name\":\"Span\",\"id\":\"p1452\",\"attributes\":{\"dimension\":\"height\",\"line_dash\":[2,4]}}],\"line_color\":\"lightgrey\"}},{\"id\":\"p1453\"},{\"id\":\"p1453\"}]}}],\"logo\":null,\"active_drag\":{\"id\":\"p1454\"},\"active_scroll\":{\"id\":\"p1455\"}}},\"toolbar_location\":\"right\",\"children\":[[{\"type\":\"object\",\"name\":\"Figure\",\"id\":\"p1253\",\"attributes\":{\"width\":null,\"height\":400,\"sizing_mode\":\"stretch_width\",\"x_range\":{\"type\":\"object\",\"name\":\"Range1d\",\"id\":\"p1252\",\"attributes\":{\"js_property_callbacks\":{\"type\":\"map\",\"entries\":[[\"change:end\",[{\"type\":\"object\",\"name\":\"CustomJS\",\"id\":\"p1450\",\"attributes\":{\"args\":{\"type\":\"map\",\"entries\":[[\"ohlc_range\",{\"type\":\"object\",\"name\":\"DataRange1d\",\"id\":\"p1255\"}],[\"source\",{\"id\":\"p1289\"}]]},\"code\":\"if (!window._bt_scale_range) {\\n    window._bt_scale_range = function (range, min, max, pad) {\\n        \\\"use strict\\\";\\n        if (min !== Infinity && max !== -Infinity) {\\n            pad = pad ? (max - min) * .03 : 0;\\n            range.start = min - pad;\\n            range.end = max + pad;\\n        } else console.error('backtesting: scale range error:', min, max, range);\\n    };\\n}\\n\\nclearTimeout(window._bt_autoscale_timeout);\\n\\nwindow._bt_autoscale_timeout = setTimeout(function () {\\n    /**\\n     * @variable cb_obj `fig_ohlc.x_range`.\\n     * @variable source `ColumnDataSource`\\n     * @variable ohlc_range `fig_ohlc.y_range`.\\n     * @variable volume_range `fig_volume.y_range`.\\n     */\\n    \\\"use strict\\\";\\n\\n    let i = Math.max(Math.floor(cb_obj.start), 0),\\n        j = Math.min(Math.ceil(cb_obj.end), source.data['ohlc_high'].length);\\n\\n    let max = Math.max.apply(null, source.data['ohlc_high'].slice(i, j)),\\n        min = Math.min.apply(null, source.data['ohlc_low'].slice(i, j));\\n    _bt_scale_range(ohlc_range, min, max, true);\\n\\n    if (volume_range) {\\n        max = Math.max.apply(null, source.data['Volume'].slice(i, j));\\n        _bt_scale_range(volume_range, 0, max * 1.03, false);\\n    }\\n\\n}, 50);\\n\"}}]]]},\"end\":250,\"bounds\":[-12.5,262.5],\"min_interval\":10}},\"y_range\":{\"id\":\"p1255\"},\"x_scale\":{\"type\":\"object\",\"name\":\"LinearScale\",\"id\":\"p1262\"},\"y_scale\":{\"type\":\"object\",\"name\":\"LinearScale\",\"id\":\"p1263\"},\"title\":{\"type\":\"object\",\"name\":\"Title\",\"id\":\"p1260\",\"attributes\":{\"text_color\":\"#E0E0E0\",\"text_font\":\"Helvetica\",\"text_font_size\":\"1.15em\"}},\"outline_line_color\":\"#666666\",\"outline_line_alpha\":0.25,\"renderers\":[{\"type\":\"object\",\"name\":\"GlyphRenderer\",\"id\":\"p1309\",\"attributes\":{\"data_source\":{\"type\":\"object\",\"name\":\"ColumnDataSource\",\"id\":\"p1300\",\"attributes\":{\"selected\":{\"type\":\"object\",\"name\":\"Selection\",\"id\":\"p1301\",\"attributes\":{\"indices\":[],\"line_indices\":[]}},\"selection_policy\":{\"type\":\"object\",\"name\":\"UnionRenderers\",\"id\":\"p1302\"},\"data\":{\"type\":\"map\",\"entries\":[[\"index\",{\"type\":\"ndarray\",\"array\":{\"type\":\"bytes\",\"data\":\"H4sIAAEAAAAC/2NgAAFFBzDFYAuhHTwh9IFACP0gDMqPhtAJCVD1yRB6QSqENsiA0BeyIHRDLoQWyHcAAIrxxwtoAAAA\"},\"shape\":[13],\"dtype\":\"float64\",\"order\":\"little\"}],[\"Open\",{\"type\":\"ndarray\",\"array\":{\"type\":\"bytes\",\"data\":\"H4sIAAEAAAAC//N4WCWyjj3aAUS5K8Y4cF1fXGDrFeMQtEOu9bViPET8YIxDTP+hrxo9sQ5A3sOqI9EOIOnAFVEOIK7Iv0gHW5BG32gIvTYGIl8R4wAkd8iJxjkAAF3BB0NoAAAA\"},\"shape\":[13],\"dtype\":\"float64\",\"order\":\"little\"}],[\"High\",{\"type\":\"ndarray\",\"array\":{\"type\":\"bytes\",\"data\":\"H4sIAAEAAAAC/5s1EwgqYxyqRda5P+SKdYjpP/RVwyfe4WEVUMAQSjvGOYCkq1ig9JFohzQQEIt2eBO4Q65VOsYhCEi9LoxxKLTlur54QayDfOvrwB1xcQ4g5SLz4hwAl4JIXGgAAAA=\"},\"shape\":[13],\"dtype\":\"float64\",\"order\":\"little\"}],[\"Low\",{\"type\":\"ndarray\",\"array\":{\"type\":\"bytes\",\"data\":\"H4sIAAEAAAAC/7Plur64YG6UAwMYxDiAuLZeMQ5BO+RaXx+McZg1Ewg6YxxsQRK6UHmpKAcQxWUe7rDO/WGVyL9IiLxvtEPr68AdcktjHEDaAyug+jnjHADy6nqiaAAAAA==\"},\"shape\":[13],\"dtype\":\"float64\",\"order\":\"little\"}],[\"Close\",{\"type\":\"ndarray\",\"array\":{\"type\":\"bytes\",\"data\":\"H4sIAAEAAAAC/zt7BghyYhw0Y/oPfbWIcQCSGjH68Q5c1xcX2J6Cir+IdUgDgTKofH8UhP8s0uEbkHcoNBrCT4txsAVpfBvjELRDrvW1Y5zDOveHVSLz4hwAGGfU/GgAAAA=\"},\"shape\":[13],\"dtype\":\"float64\",\"order\":\"little\"}],[\"Volume\",{\"type\":\"ndarray\",\"array\":{\"type\":\"bytes\",\"data\":\"H4sIAAEAAAAC/2NgoA8AAC8CH9doAAAA\"},\"shape\":[13],\"dtype\":\"float64\",\"order\":\"little\"}],[\"_width\",{\"type\":\"ndarray\",\"array\":{\"type\":\"bytes\",\"data\":\"H4sIAAEAAAAC/0tLA4Jnhg5pYNoMShtDaRM0vhGauAkOdaZwcWMw4HcAAB5+UnhoAAAA\"},\"shape\":[13],\"dtype\":\"float64\",\"order\":\"little\"}],[\"inc\",{\"type\":\"ndarray\",\"array\":[\"1\",\"1\",\"1\",\"0\",\"1\",\"0\",\"0\",\"0\",\"1\",\"1\",\"1\",\"1\",\"1\"],\"shape\":[13],\"dtype\":\"object\",\"order\":\"little\"}]]}}},\"view\":{\"type\":\"object\",\"name\":\"CDSView\",\"id\":\"p1310\",\"attributes\":{\"filter\":{\"type\":\"object\",\"name\":\"AllIndices\",\"id\":\"p1311\"}}},\"glyph\":{\"type\":\"object\",\"name\":\"Segment\",\"id\":\"p1306\",\"attributes\":{\"x0\":{\"type\":\"field\",\"field\":\"index\"},\"y0\":{\"type\":\"field\",\"field\":\"High\"},\"x1\":{\"type\":\"field\",\"field\":\"index\"},\"y1\":{\"type\":\"field\",\"field\":\"Low\"},\"line_color\":{\"type\":\"value\",\"value\":\"#bbbbbb\"}}},\"nonselection_glyph\":{\"type\":\"object\",\"name\":\"Segment\",\"id\":\"p1307\",\"attributes\":{\"x0\":{\"type\":\"field\",\"field\":\"index\"},\"y0\":{\"type\":\"field\",\"field\":\"High\"},\"x1\":{\"type\":\"field\",\"field\":\"index\"},\"y1\":{\"type\":\"field\",\"field\":\"Low\"},\"line_color\":{\"type\":\"value\",\"value\":\"#bbbbbb\"},\"line_alpha\":{\"type\":\"value\",\"value\":0.1}}},\"muted_glyph\":{\"type\":\"object\",\"name\":\"Segment\",\"id\":\"p1308\",\"attributes\":{\"x0\":{\"type\":\"field\",\"field\":\"index\"},\"y0\":{\"type\":\"field\",\"field\":\"High\"},\"x1\":{\"type\":\"field\",\"field\":\"index\"},\"y1\":{\"type\":\"field\",\"field\":\"Low\"},\"line_color\":{\"type\":\"value\",\"value\":\"#bbbbbb\"},\"line_alpha\":{\"type\":\"value\",\"value\":0.2}}}}},{\"type\":\"object\",\"name\":\"GlyphRenderer\",\"id\":\"p1319\",\"attributes\":{\"data_source\":{\"id\":\"p1300\"},\"view\":{\"type\":\"object\",\"name\":\"CDSView\",\"id\":\"p1320\",\"attributes\":{\"filter\":{\"type\":\"object\",\"name\":\"AllIndices\",\"id\":\"p1321\"}}},\"glyph\":{\"type\":\"object\",\"name\":\"VBar\",\"id\":\"p1316\",\"attributes\":{\"x\":{\"type\":\"field\",\"field\":\"index\"},\"width\":{\"type\":\"field\",\"field\":\"_width\"},\"bottom\":{\"type\":\"field\",\"field\":\"Close\"},\"top\":{\"type\":\"field\",\"field\":\"Open\"},\"line_color\":{\"type\":\"value\",\"value\":null},\"fill_color\":{\"type\":\"field\",\"field\":\"inc\",\"transform\":{\"type\":\"object\",\"name\":\"CategoricalColorMapper\",\"id\":\"p1312\",\"attributes\":{\"palette\":[\"rgb(254, 220, 214)\",\"rgb(214, 254, 214)\"],\"factors\":[\"0\",\"1\"]}}}}},\"nonselection_glyph\":{\"type\":\"object\",\"name\":\"VBar\",\"id\":\"p1317\",\"attributes\":{\"x\":{\"type\":\"field\",\"field\":\"index\"},\"width\":{\"type\":\"field\",\"field\":\"_width\"},\"bottom\":{\"type\":\"field\",\"field\":\"Close\"},\"top\":{\"type\":\"field\",\"field\":\"Open\"},\"line_color\":{\"type\":\"value\",\"value\":null},\"line_alpha\":{\"type\":\"value\",\"value\":0.1},\"fill_color\":{\"type\":\"field\",\"field\":\"inc\",\"transform\":{\"id\":\"p1312\"}},\"fill_alpha\":{\"type\":\"value\",\"value\":0.1},\"hatch_alpha\":{\"type\":\"value\",\"value\":0.1}}},\"muted_glyph\":{\"type\":\"object\",\"name\":\"VBar\",\"id\":\"p1318\",\"attributes\":{\"x\":{\"type\":\"field\",\"field\":\"index\"},\"width\":{\"type\":\"field\",\"field\":\"_width\"},\"bottom\":{\"type\":\"field\",\"field\":\"Close\"},\"top\":{\"type\":\"field\",\"field\":\"Open\"},\"line_color\":{\"type\":\"value\",\"value\":null},\"line_alpha\":{\"type\":\"value\",\"value\":0.2},\"fill_color\":{\"type\":\"field\",\"field\":\"inc\",\"transform\":{\"id\":\"p1312\"}},\"fill_alpha\":{\"type\":\"value\",\"value\":0.2},\"hatch_alpha\":{\"type\":\"value\",\"value\":0.2}}}}},{\"type\":\"object\",\"name\":\"GlyphRenderer\",\"id\":\"p1328\",\"attributes\":{\"data_source\":{\"id\":\"p1289\"},\"view\":{\"type\":\"object\",\"name\":\"CDSView\",\"id\":\"p1329\",\"attributes\":{\"filter\":{\"type\":\"object\",\"name\":\"AllIndices\",\"id\":\"p1330\"}}},\"glyph\":{\"type\":\"object\",\"name\":\"Segment\",\"id\":\"p1325\",\"attributes\":{\"x0\":{\"type\":\"field\",\"field\":\"index\"},\"y0\":{\"type\":\"field\",\"field\":\"High\"},\"x1\":{\"type\":\"field\",\"field\":\"index\"},\"y1\":{\"type\":\"field\",\"field\":\"Low\"}}},\"nonselection_glyph\":{\"type\":\"object\",\"name\":\"Segment\",\"id\":\"p1326\",\"attributes\":{\"x0\":{\"type\":\"field\",\"field\":\"index\"},\"y0\":{\"type\":\"field\",\"field\":\"High\"},\"x1\":{\"type\":\"field\",\"field\":\"index\"},\"y1\":{\"type\":\"field\",\"field\":\"Low\"},\"line_alpha\":{\"type\":\"value\",\"value\":0.1}}},\"muted_glyph\":{\"type\":\"object\",\"name\":\"Segment\",\"id\":\"p1327\",\"attributes\":{\"x0\":{\"type\":\"field\",\"field\":\"index\"},\"y0\":{\"type\":\"field\",\"field\":\"High\"},\"x1\":{\"type\":\"field\",\"field\":\"index\"},\"y1\":{\"type\":\"field\",\"field\":\"Low\"},\"line_alpha\":{\"type\":\"value\",\"value\":0.2}}}}},{\"id\":\"p1339\"},{\"type\":\"object\",\"name\":\"GlyphRenderer\",\"id\":\"p1348\",\"attributes\":{\"data_source\":{\"id\":\"p1289\"},\"view\":{\"type\":\"object\",\"name\":\"CDSView\",\"id\":\"p1349\",\"attributes\":{\"filter\":{\"type\":\"object\",\"name\":\"AllIndices\",\"id\":\"p1350\"}}},\"glyph\":{\"type\":\"object\",\"name\":\"Line\",\"id\":\"p1345\",\"attributes\":{\"x\":{\"type\":\"field\",\"field\":\"index\"},\"y\":{\"type\":\"field\",\"field\":\"SMA(C,50)_0_0\"},\"line_color\":\"#1f77b4\",\"line_width\":1.5}},\"nonselection_glyph\":{\"type\":\"object\",\"name\":\"Line\",\"id\":\"p1346\",\"attributes\":{\"x\":{\"type\":\"field\",\"field\":\"index\"},\"y\":{\"type\":\"field\",\"field\":\"SMA(C,50)_0_0\"},\"line_color\":\"#1f77b4\",\"line_alpha\":0.1,\"line_width\":1.5}},\"muted_glyph\":{\"type\":\"object\",\"name\":\"Line\",\"id\":\"p1347\",\"attributes\":{\"x\":{\"type\":\"field\",\"field\":\"index\"},\"y\":{\"type\":\"field\",\"field\":\"SMA(C,50)_0_0\"},\"line_color\":\"#1f77b4\",\"line_alpha\":0.2,\"line_width\":1.5}}}}],\"toolbar\":{\"type\":\"object\",\"name\":\"Toolbar\",\"id\":\"p1261\",\"attributes\":{\"tools\":[{\"id\":\"p1274\"},{\"id\":\"p1275\"},{\"id\":\"p1276\"},{\"id\":\"p1277\"},{\"id\":\"p1285\"},{\"id\":\"p1286\"},{\"id\":\"p1287\"},{\"type\":\"object\",\"name\":\"SaveTool\",\"id\":\"p1288\"},{\"id\":\"p1449\"},{\"id\":\"p1453\"}],\"active_drag\":{\"id\":\"p1274\"},\"active_scroll\":{\"id\":\"p1275\"}}},\"toolbar_location\":null,\"left\":[{\"type\":\"object\",\"name\":\"LinearAxis\",\"id\":\"p1269\",\"attributes\":{\"ticker\":{\"type\":\"object\",\"name\":\"BasicTicker\",\"id\":\"p1270\",\"attributes\":{\"mantissas\":[1,2,5]}},\"formatter\":{\"type\":\"object\",\"name\":\"BasicTickFormatter\",\"id\":\"p1271\"},\"axis_label_standoff\":10,\"axis_label_text_color\":\"#E0E0E0\",\"axis_label_text_font\":\"Helvetica\",\"axis_label_text_font_size\":\"1.25em\",\"axis_label_text_font_style\":\"normal\",\"major_label_policy\":{\"type\":\"object\",\"name\":\"AllLabels\",\"id\":\"p1272\"},\"major_label_text_color\":\"#E0E0E0\",\"major_label_text_font\":\"Helvetica\",\"major_label_text_font_size\":\"1.025em\",\"axis_line_color\":\"#E0E0E0\",\"axis_line_alpha\":0,\"major_tick_line_color\":\"#E0E0E0\",\"major_tick_line_alpha\":0,\"minor_tick_line_color\":\"#E0E0E0\",\"minor_tick_line_alpha\":0}}],\"below\":[{\"type\":\"object\",\"name\":\"LinearAxis\",\"id\":\"p1264\",\"attributes\":{\"ticker\":{\"type\":\"object\",\"name\":\"BasicTicker\",\"id\":\"p1265\",\"attributes\":{\"mantissas\":[1,2,5]}},\"formatter\":{\"type\":\"object\",\"name\":\"CustomJSTickFormatter\",\"id\":\"p1299\",\"attributes\":{\"args\":{\"type\":\"map\",\"entries\":[[\"axis\",{\"id\":\"p1264\"}],[\"formatter\",{\"type\":\"object\",\"name\":\"DatetimeTickFormatter\",\"id\":\"p1298\",\"attributes\":{\"days\":\"%a, %d %b\"}}],[\"source\",{\"id\":\"p1289\"}]]},\"code\":\"\\nthis.labels = this.labels || formatter.doFormat(ticks\\n                                                .map(i => source.data.datetime[i])\\n                                                .filter(t => t !== undefined));\\nreturn this.labels[index] || \\\"\\\";\\n        \"}},\"axis_label_standoff\":10,\"axis_label_text_color\":\"#E0E0E0\",\"axis_label_text_font\":\"Helvetica\",\"axis_label_text_font_size\":\"1.25em\",\"axis_label_text_font_style\":\"normal\",\"major_label_policy\":{\"type\":\"object\",\"name\":\"AllLabels\",\"id\":\"p1267\"},\"major_label_text_color\":\"#E0E0E0\",\"major_label_text_font\":\"Helvetica\",\"major_label_text_font_size\":\"1.025em\",\"axis_line_color\":\"#E0E0E0\",\"axis_line_alpha\":0,\"major_tick_line_color\":\"#E0E0E0\",\"major_tick_line_alpha\":0,\"minor_tick_line_color\":\"#E0E0E0\",\"minor_tick_line_alpha\":0}}],\"center\":[{\"type\":\"object\",\"name\":\"Grid\",\"id\":\"p1268\",\"attributes\":{\"axis\":{\"id\":\"p1264\"},\"grid_line_color\":\"#E0E0E0\",\"grid_line_alpha\":0.25}},{\"type\":\"object\",\"name\":\"Grid\",\"id\":\"p1273\",\"attributes\":{\"dimension\":1,\"axis\":{\"id\":\"p1269\"},\"grid_line_color\":\"#E0E0E0\",\"grid_line_alpha\":0.25}},{\"type\":\"object\",\"name\":\"Legend\",\"id\":\"p1331\",\"attributes\":{\"location\":\"top_left\",\"border_line_color\":\"#333333\",\"border_line_alpha\":0,\"background_fill_color\":\"#2C001E\",\"background_fill_alpha\":0.9,\"click_policy\":\"hide\",\"label_text_color\":\"#E0E0E0\",\"label_text_font\":\"Helvetica\",\"label_text_font_size\":\"8pt\",\"label_standoff\":8,\"glyph_width\":15,\"margin\":0,\"padding\":5,\"spacing\":0,\"items\":[{\"type\":\"object\",\"name\":\"LegendItem\",\"id\":\"p1332\",\"attributes\":{\"label\":{\"type\":\"value\",\"value\":\"OHLC\"},\"renderers\":[{\"id\":\"p1328\"},{\"id\":\"p1339\"}]}},{\"type\":\"object\",\"name\":\"LegendItem\",\"id\":\"p1351\",\"attributes\":{\"label\":{\"type\":\"value\",\"value\":\"SMA(C,50)\"},\"renderers\":[{\"id\":\"p1348\"}]}}]}},{\"type\":\"object\",\"name\":\"Label\",\"id\":\"p1448\",\"attributes\":{\"text\":\"Created with Backtesting.py: http://kernc.github.io/backtesting.py\",\"text_color\":\"silver\",\"text_alpha\":0.09,\"x\":10,\"y\":15,\"x_units\":\"screen\",\"y_units\":\"screen\"}}],\"background_fill_color\":\"#2C001E\",\"border_fill_color\":\"#15191C\",\"min_border_top\":3,\"min_border_bottom\":6,\"min_border_left\":0,\"min_border_right\":10}},0,0],[{\"type\":\"object\",\"name\":\"Figure\",\"id\":\"p1352\",\"attributes\":{\"width\":null,\"height\":50,\"sizing_mode\":\"stretch_width\",\"x_range\":{\"id\":\"p1252\"},\"y_range\":{\"type\":\"object\",\"name\":\"DataRange1d\",\"id\":\"p1354\"},\"x_scale\":{\"type\":\"object\",\"name\":\"LinearScale\",\"id\":\"p1361\"},\"y_scale\":{\"type\":\"object\",\"name\":\"LinearScale\",\"id\":\"p1362\"},\"title\":{\"type\":\"object\",\"name\":\"Title\",\"id\":\"p1359\",\"attributes\":{\"text_color\":\"#E0E0E0\",\"text_font\":\"Helvetica\",\"text_font_size\":\"1.15em\"}},\"outline_line_color\":\"#666666\",\"outline_line_alpha\":0.25,\"renderers\":[{\"id\":\"p1394\"}],\"toolbar\":{\"type\":\"object\",\"name\":\"Toolbar\",\"id\":\"p1360\",\"attributes\":{\"tools\":[{\"id\":\"p1373\"},{\"id\":\"p1374\"},{\"id\":\"p1375\"},{\"id\":\"p1376\"},{\"id\":\"p1384\"},{\"id\":\"p1385\"},{\"id\":\"p1386\"},{\"type\":\"object\",\"name\":\"SaveTool\",\"id\":\"p1387\"},{\"id\":\"p1399\"},{\"id\":\"p1453\"}],\"active_drag\":{\"id\":\"p1373\"},\"active_scroll\":{\"id\":\"p1374\"}}},\"toolbar_location\":null,\"left\":[{\"type\":\"object\",\"name\":\"LinearAxis\",\"id\":\"p1368\",\"attributes\":{\"ticker\":{\"type\":\"object\",\"name\":\"BasicTicker\",\"id\":\"p1369\",\"attributes\":{\"desired_num_ticks\":3,\"mantissas\":[1,2,5]}},\"formatter\":{\"type\":\"object\",\"name\":\"BasicTickFormatter\",\"id\":\"p1370\"},\"axis_label_standoff\":10,\"axis_label_text_color\":\"#E0E0E0\",\"axis_label_text_font\":\"Helvetica\",\"axis_label_text_font_size\":\"1.25em\",\"axis_label_text_font_style\":\"normal\",\"major_label_policy\":{\"type\":\"object\",\"name\":\"AllLabels\",\"id\":\"p1371\"},\"major_label_text_color\":\"#E0E0E0\",\"major_label_text_font\":\"Helvetica\",\"major_label_text_font_size\":\"1.025em\",\"axis_line_color\":\"#E0E0E0\",\"axis_line_alpha\":0,\"major_tick_line_color\":\"#E0E0E0\",\"major_tick_line_alpha\":0,\"minor_tick_line_color\":null,\"minor_tick_line_alpha\":0}}],\"below\":[{\"type\":\"object\",\"name\":\"LinearAxis\",\"id\":\"p1363\",\"attributes\":{\"visible\":false,\"ticker\":{\"type\":\"object\",\"name\":\"BasicTicker\",\"id\":\"p1364\",\"attributes\":{\"mantissas\":[1,2,5]}},\"formatter\":{\"type\":\"object\",\"name\":\"BasicTickFormatter\",\"id\":\"p1365\"},\"axis_label_standoff\":10,\"axis_label_text_color\":\"#E0E0E0\",\"axis_label_text_font\":\"Helvetica\",\"axis_label_text_font_size\":\"1.25em\",\"axis_label_text_font_style\":\"normal\",\"major_label_policy\":{\"type\":\"object\",\"name\":\"AllLabels\",\"id\":\"p1366\"},\"major_label_text_color\":\"#E0E0E0\",\"major_label_text_font\":\"Helvetica\",\"major_label_text_font_size\":\"1.025em\",\"axis_line_color\":\"#E0E0E0\",\"axis_line_alpha\":0,\"major_tick_line_color\":\"#E0E0E0\",\"major_tick_line_alpha\":0,\"minor_tick_line_color\":\"#E0E0E0\",\"minor_tick_line_alpha\":0}}],\"center\":[{\"type\":\"object\",\"name\":\"Grid\",\"id\":\"p1367\",\"attributes\":{\"axis\":{\"id\":\"p1363\"},\"grid_line_color\":\"#E0E0E0\",\"grid_line_alpha\":0.25}},{\"type\":\"object\",\"name\":\"Grid\",\"id\":\"p1372\",\"attributes\":{\"dimension\":1,\"axis\":{\"id\":\"p1368\"},\"grid_line_color\":\"#E0E0E0\",\"grid_line_alpha\":0.25}},{\"type\":\"object\",\"name\":\"Legend\",\"id\":\"p1397\",\"attributes\":{\"location\":\"top_left\",\"border_line_color\":\"#333333\",\"border_line_alpha\":0,\"background_fill_color\":\"#2C001E\",\"background_fill_alpha\":0.9,\"click_policy\":\"hide\",\"label_text_color\":\"#E0E0E0\",\"label_text_font\":\"Helvetica\",\"label_text_font_size\":\"8pt\",\"label_standoff\":8,\"glyph_width\":0,\"margin\":0,\"padding\":5,\"spacing\":0,\"items\":[{\"type\":\"object\",\"name\":\"LegendItem\",\"id\":\"p1398\",\"attributes\":{\"label\":{\"type\":\"value\",\"value\":\"SMA(C,200)\"},\"renderers\":[{\"id\":\"p1394\"}]}}]}}],\"background_fill_color\":\"#2C001E\",\"border_fill_color\":\"#15191C\",\"min_border_top\":3,\"min_border_bottom\":6,\"min_border_left\":0,\"min_border_right\":10}},1,0],[{\"type\":\"object\",\"name\":\"Figure\",\"id\":\"p1400\",\"attributes\":{\"width\":null,\"height\":50,\"sizing_mode\":\"stretch_width\",\"x_range\":{\"id\":\"p1252\"},\"y_range\":{\"type\":\"object\",\"name\":\"DataRange1d\",\"id\":\"p1402\"},\"x_scale\":{\"type\":\"object\",\"name\":\"LinearScale\",\"id\":\"p1409\"},\"y_scale\":{\"type\":\"object\",\"name\":\"LinearScale\",\"id\":\"p1410\"},\"title\":{\"type\":\"object\",\"name\":\"Title\",\"id\":\"p1407\",\"attributes\":{\"text_color\":\"#E0E0E0\",\"text_font\":\"Helvetica\",\"text_font_size\":\"1.15em\"}},\"outline_line_color\":\"#666666\",\"outline_line_alpha\":0.25,\"renderers\":[{\"id\":\"p1442\"}],\"toolbar\":{\"type\":\"object\",\"name\":\"Toolbar\",\"id\":\"p1408\",\"attributes\":{\"tools\":[{\"id\":\"p1421\"},{\"id\":\"p1422\"},{\"id\":\"p1423\"},{\"id\":\"p1424\"},{\"id\":\"p1432\"},{\"id\":\"p1433\"},{\"id\":\"p1434\"},{\"type\":\"object\",\"name\":\"SaveTool\",\"id\":\"p1435\"},{\"id\":\"p1447\"},{\"id\":\"p1453\"}],\"active_drag\":{\"id\":\"p1421\"},\"active_scroll\":{\"id\":\"p1422\"}}},\"toolbar_location\":null,\"left\":[{\"type\":\"object\",\"name\":\"LinearAxis\",\"id\":\"p1416\",\"attributes\":{\"ticker\":{\"type\":\"object\",\"name\":\"BasicTicker\",\"id\":\"p1417\",\"attributes\":{\"desired_num_ticks\":3,\"mantissas\":[1,2,5]}},\"formatter\":{\"type\":\"object\",\"name\":\"BasicTickFormatter\",\"id\":\"p1418\"},\"axis_label_standoff\":10,\"axis_label_text_color\":\"#E0E0E0\",\"axis_label_text_font\":\"Helvetica\",\"axis_label_text_font_size\":\"1.25em\",\"axis_label_text_font_style\":\"normal\",\"major_label_policy\":{\"type\":\"object\",\"name\":\"AllLabels\",\"id\":\"p1419\"},\"major_label_text_color\":\"#E0E0E0\",\"major_label_text_font\":\"Helvetica\",\"major_label_text_font_size\":\"1.025em\",\"axis_line_color\":\"#E0E0E0\",\"axis_line_alpha\":0,\"major_tick_line_color\":\"#E0E0E0\",\"major_tick_line_alpha\":0,\"minor_tick_line_color\":null,\"minor_tick_line_alpha\":0}}],\"below\":[{\"type\":\"object\",\"name\":\"LinearAxis\",\"id\":\"p1411\",\"attributes\":{\"visible\":false,\"ticker\":{\"type\":\"object\",\"name\":\"BasicTicker\",\"id\":\"p1412\",\"attributes\":{\"mantissas\":[1,2,5]}},\"formatter\":{\"type\":\"object\",\"name\":\"BasicTickFormatter\",\"id\":\"p1413\"},\"axis_label_standoff\":10,\"axis_label_text_color\":\"#E0E0E0\",\"axis_label_text_font\":\"Helvetica\",\"axis_label_text_font_size\":\"1.25em\",\"axis_label_text_font_style\":\"normal\",\"major_label_policy\":{\"type\":\"object\",\"name\":\"AllLabels\",\"id\":\"p1414\"},\"major_label_text_color\":\"#E0E0E0\",\"major_label_text_font\":\"Helvetica\",\"major_label_text_font_size\":\"1.025em\",\"axis_line_color\":\"#E0E0E0\",\"axis_line_alpha\":0,\"major_tick_line_color\":\"#E0E0E0\",\"major_tick_line_alpha\":0,\"minor_tick_line_color\":\"#E0E0E0\",\"minor_tick_line_alpha\":0}}],\"center\":[{\"type\":\"object\",\"name\":\"Grid\",\"id\":\"p1415\",\"attributes\":{\"axis\":{\"id\":\"p1411\"},\"grid_line_color\":\"#E0E0E0\",\"grid_line_alpha\":0.25}},{\"type\":\"object\",\"name\":\"Grid\",\"id\":\"p1420\",\"attributes\":{\"dimension\":1,\"axis\":{\"id\":\"p1416\"},\"grid_line_color\":\"#E0E0E0\",\"grid_line_alpha\":0.25}},{\"type\":\"object\",\"name\":\"Legend\",\"id\":\"p1445\",\"attributes\":{\"location\":\"top_left\",\"border_line_color\":\"#333333\",\"border_line_alpha\":0,\"background_fill_color\":\"#2C001E\",\"background_fill_alpha\":0.9,\"click_policy\":\"hide\",\"label_text_color\":\"#E0E0E0\",\"label_text_font\":\"Helvetica\",\"label_text_font_size\":\"8pt\",\"label_standoff\":8,\"glyph_width\":0,\"margin\":0,\"padding\":5,\"spacing\":0,\"items\":[{\"type\":\"object\",\"name\":\"LegendItem\",\"id\":\"p1446\",\"attributes\":{\"label\":{\"type\":\"value\",\"value\":\"entry size\"},\"renderers\":[{\"id\":\"p1442\"}]}}]}}],\"background_fill_color\":\"#2C001E\",\"border_fill_color\":\"#15191C\",\"min_border_top\":3,\"min_border_bottom\":6,\"min_border_left\":0,\"min_border_right\":10}},2,0]]}}],\"callbacks\":{\"type\":\"map\",\"entries\":[[\"document_ready\",[{\"type\":\"object\",\"name\":\"CustomJS\",\"id\":\"p1251\",\"attributes\":{\"code\":\"(function() { var i = document.createElement('iframe'); i.style.display='none';i.width=i.height=1;i.loading='eager';i.src='https://kernc.github.io/backtesting.py/plx.gif.html?utm_source='+location.origin;document.body.appendChild(i);})();\"}}]]]}}};\n  const render_items = [{\"docid\":\"50c32221-d8bf-4901-a347-769b49284d74\",\"roots\":{\"p1467\":\"bd96c294-01df-4e3d-b6ab-2fa0441e5ad5\"},\"root_ids\":[\"p1467\"]}];\n  void root.Bokeh.embed.embed_items_notebook(docs_json, render_items);\n  }\n  if (root.Bokeh !== undefined) {\n    embed_document(root);\n  } else {\n    let attempts = 0;\n    const timer = setInterval(function(root) {\n      if (root.Bokeh !== undefined) {\n        clearInterval(timer);\n        embed_document(root);\n      } else {\n        attempts++;\n        if (attempts > 100) {\n          clearInterval(timer);\n          console.log(\"Bokeh: ERROR: Unable to run BokehJS code because BokehJS library is missing\");\n        }\n      }\n    }, 10, root)\n  }\n})(window);",
      "application/vnd.bokehjs_exec.v0+json": ""
     },
     "metadata": {
      "application/vnd.bokehjs_exec.v0+json": {
       "id": "p1467"
      }
     },
     "output_type": "display_data"
    },
    {
     "name": "stdout",
     "output_type": "stream",
     "text": [
      "STRATEGY                ->  SmaCross\n",
      "Sharpe ratio            ->  1.0758484143066014\n",
      "Return %                ->  5.280033600000006\n",
      "Buy and Hold Return     ->  13.272290048094703\n",
      "Max. Drawdown [%]       ->  -1.8386780044450601\n",
      "Avg. Drawdown [%]       ->  -1.1517425433079738\n",
      "Max. Drawdown Duration  ->  9 days 00:00:00\n",
      "Avg. Drawdown Duration  ->  8 days 00:00:00\n",
      "Trades\n",
      "Empty DataFrame\n",
      "Columns: [Size, EntryBar, ExitBar, EntryPrice, ExitPrice, SL, TP, PnL, Commission, ReturnPct, EntryTime, ExitTime, Duration, Tag]\n",
      "Index: []\n"
     ]
    }
   ],
   "source": [
    "bt = Backtest(df, SmaCross, commission=.002)\n",
    "\n",
    "stats = bt.run()\n",
    "bt.plot()\n",
    "retrieve(stats,True)"
   ]
  }
 ],
 "metadata": {
  "kernelspec": {
   "display_name": ".venv",
   "language": "python",
   "name": "python3"
  },
  "language_info": {
   "codemirror_mode": {
    "name": "ipython",
    "version": 3
   },
   "file_extension": ".py",
   "mimetype": "text/x-python",
   "name": "python",
   "nbconvert_exporter": "python",
   "pygments_lexer": "ipython3",
   "version": "3.13.7"
  }
 },
 "nbformat": 4,
 "nbformat_minor": 5
}
